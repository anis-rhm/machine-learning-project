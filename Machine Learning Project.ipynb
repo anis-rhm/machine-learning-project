{
 "cells": [
  {
   "cell_type": "markdown",
   "id": "5cc2b0a3-2ac1-4b6f-8cce-c8fb553a503b",
   "metadata": {},
   "source": [
    "## Introduction and dataset presentation : \n",
    "\n",
    "\n",
    "The MetroPT-3 dataset provides a comprehensive collection of multivariate time series data extracted from a compressor's Air Production Unit (APU) installed in a metro train, spanning from February to August 2020. With a total of 15 attributes measured at a frequency of 1Hz, this dataset offers valuable insights into the operational behavior and health status of the compressor system. \n",
    "\n",
    "These attributes include pressure readings at various points within the compressor, motor current, oil temperature, and electrical signals related to air intake valves and system operation. The dataset was meticulously gathered to support the development of predictive maintenance, anomaly detection, and remaining useful life (RUL) prediction models, crucial for ensuring the reliability and safety of metro train operations.\n",
    "\n",
    "Researchers and practitioners in the fields of predictive maintenance, deep learning, and machine learning can leverage the MetroPT-3 dataset to address real-world challenges encountered in the railway industry. Through sophisticated analysis and modeling techniques, this dataset opens avenues for proactive maintenance strategies, fault detection, and optimization of compressor performance, ultimately enhancing operational efficiency and passenger safety in metro transit systems."
   ]
  },
  {
   "cell_type": "markdown",
   "id": "373a0d01-e3c8-4a2a-93e2-46ed58ff215a",
   "metadata": {},
   "source": [
    "# Data description"
   ]
  },
  {
   "cell_type": "code",
   "execution_count": 1,
   "id": "a7016c74-0344-48c7-8c99-15748194d943",
   "metadata": {},
   "outputs": [
    {
     "data": {
      "text/html": [
       "\n",
       "        <iframe\n",
       "            width=\"800\"\n",
       "            height=\"400\"\n",
       "            src=\"./Data_Description_Metro.pdf\"\n",
       "            frameborder=\"0\"\n",
       "            allowfullscreen\n",
       "            \n",
       "        ></iframe>\n",
       "        "
      ],
      "text/plain": [
       "<IPython.lib.display.IFrame at 0x7fefe54bb1d0>"
      ]
     },
     "metadata": {},
     "output_type": "display_data"
    }
   ],
   "source": [
    "from IPython.display import IFrame, display\n",
    "pdf_path = './Data_Description_Metro.pdf'\n",
    "display(IFrame(pdf_path, width=800, height=400))"
   ]
  },
  {
   "cell_type": "code",
   "execution_count": 2,
   "id": "4d6414e7-bb0c-47e1-b72b-c99b3e45fd8b",
   "metadata": {},
   "outputs": [],
   "source": [
    "# Ignore all warnings\n",
    "import warnings\n",
    "warnings.filterwarnings(\"ignore\")\n",
    "warnings.filterwarnings(\"ignore\", category=FutureWarning)\n"
   ]
  },
  {
   "cell_type": "markdown",
   "id": "3fcd0d56",
   "metadata": {},
   "source": [
    "### We import all the necessary libraires"
   ]
  },
  {
   "cell_type": "code",
   "execution_count": 3,
   "id": "eafb3a16-17f8-46d7-87c5-ac22fb662313",
   "metadata": {},
   "outputs": [
    {
     "name": "stderr",
     "output_type": "stream",
     "text": [
      "2024-06-10 03:30:09.563018: I tensorflow/core/platform/cpu_feature_guard.cc:210] This TensorFlow binary is optimized to use available CPU instructions in performance-critical operations.\n",
      "To enable the following instructions: AVX2 FMA, in other operations, rebuild TensorFlow with the appropriate compiler flags.\n",
      "2024-06-10 03:30:10.651800: W tensorflow/compiler/tf2tensorrt/utils/py_utils.cc:38] TF-TRT Warning: Could not find TensorRT\n"
     ]
    }
   ],
   "source": [
    "import numpy as np \n",
    "import pandas as pd\n",
    "import seaborn as sns\n",
    "import matplotlib.pyplot as plt\n",
    "from sklearn.model_selection import train_test_split, GridSearchCV\n",
    "from sklearn.tree import DecisionTreeClassifier\n",
    "from sklearn.ensemble import RandomForestClassifier\n",
    "from sklearn.naive_bayes import GaussianNB\n",
    "from sklearn.preprocessing import StandardScaler\n",
    "from sklearn.svm import SVC\n",
    "from sklearn.neighbors import KNeighborsClassifier\n",
    "from tensorflow.keras.models import Sequential\n",
    "from tensorflow.keras.layers import Dense\n",
    "import tensorflow as tf\n",
    "from sklearn.metrics import accuracy_score, f1_score, confusion_matrix\n",
    "from sklearn.tree import plot_tree\n",
    "from sklearn.metrics import confusion_matrix, accuracy_score, precision_score, recall_score, f1_score\n",
    "from sklearn.metrics import classification_report\n",
    "import joblib"
   ]
  },
  {
   "cell_type": "markdown",
   "id": "5d9831ff-1e8f-4744-a383-a8d23f946d98",
   "metadata": {},
   "source": [
    "## Exploring the dataset"
   ]
  },
  {
   "cell_type": "code",
   "execution_count": 4,
   "id": "e3759ca9-7f57-45c8-8d8e-7f5cf4938299",
   "metadata": {},
   "outputs": [],
   "source": [
    "df = pd.read_csv(\"./MetroPT3(AirCompressor).csv\")"
   ]
  },
  {
   "cell_type": "code",
   "execution_count": 5,
   "id": "813d43ce-c3f3-48fc-b3d8-5806c1317d4d",
   "metadata": {
    "scrolled": true
   },
   "outputs": [
    {
     "data": {
      "text/html": [
       "<div>\n",
       "<style scoped>\n",
       "    .dataframe tbody tr th:only-of-type {\n",
       "        vertical-align: middle;\n",
       "    }\n",
       "\n",
       "    .dataframe tbody tr th {\n",
       "        vertical-align: top;\n",
       "    }\n",
       "\n",
       "    .dataframe thead th {\n",
       "        text-align: right;\n",
       "    }\n",
       "</style>\n",
       "<table border=\"1\" class=\"dataframe\">\n",
       "  <thead>\n",
       "    <tr style=\"text-align: right;\">\n",
       "      <th></th>\n",
       "      <th>Unnamed: 0</th>\n",
       "      <th>timestamp</th>\n",
       "      <th>TP2</th>\n",
       "      <th>TP3</th>\n",
       "      <th>H1</th>\n",
       "      <th>DV_pressure</th>\n",
       "      <th>Reservoirs</th>\n",
       "      <th>Oil_temperature</th>\n",
       "      <th>Motor_current</th>\n",
       "      <th>COMP</th>\n",
       "      <th>DV_eletric</th>\n",
       "      <th>Towers</th>\n",
       "      <th>MPG</th>\n",
       "      <th>LPS</th>\n",
       "      <th>Pressure_switch</th>\n",
       "      <th>Oil_level</th>\n",
       "      <th>Caudal_impulses</th>\n",
       "    </tr>\n",
       "  </thead>\n",
       "  <tbody>\n",
       "    <tr>\n",
       "      <th>0</th>\n",
       "      <td>0</td>\n",
       "      <td>2020-02-01 00:00:00</td>\n",
       "      <td>-0.012</td>\n",
       "      <td>9.358</td>\n",
       "      <td>9.340</td>\n",
       "      <td>-0.024</td>\n",
       "      <td>9.358</td>\n",
       "      <td>53.600</td>\n",
       "      <td>0.0400</td>\n",
       "      <td>1.0</td>\n",
       "      <td>0.0</td>\n",
       "      <td>1.0</td>\n",
       "      <td>1.0</td>\n",
       "      <td>0.0</td>\n",
       "      <td>1.0</td>\n",
       "      <td>1.0</td>\n",
       "      <td>1.0</td>\n",
       "    </tr>\n",
       "    <tr>\n",
       "      <th>1</th>\n",
       "      <td>10</td>\n",
       "      <td>2020-02-01 00:00:10</td>\n",
       "      <td>-0.014</td>\n",
       "      <td>9.348</td>\n",
       "      <td>9.332</td>\n",
       "      <td>-0.022</td>\n",
       "      <td>9.348</td>\n",
       "      <td>53.675</td>\n",
       "      <td>0.0400</td>\n",
       "      <td>1.0</td>\n",
       "      <td>0.0</td>\n",
       "      <td>1.0</td>\n",
       "      <td>1.0</td>\n",
       "      <td>0.0</td>\n",
       "      <td>1.0</td>\n",
       "      <td>1.0</td>\n",
       "      <td>1.0</td>\n",
       "    </tr>\n",
       "    <tr>\n",
       "      <th>2</th>\n",
       "      <td>20</td>\n",
       "      <td>2020-02-01 00:00:19</td>\n",
       "      <td>-0.012</td>\n",
       "      <td>9.338</td>\n",
       "      <td>9.322</td>\n",
       "      <td>-0.022</td>\n",
       "      <td>9.338</td>\n",
       "      <td>53.600</td>\n",
       "      <td>0.0425</td>\n",
       "      <td>1.0</td>\n",
       "      <td>0.0</td>\n",
       "      <td>1.0</td>\n",
       "      <td>1.0</td>\n",
       "      <td>0.0</td>\n",
       "      <td>1.0</td>\n",
       "      <td>1.0</td>\n",
       "      <td>1.0</td>\n",
       "    </tr>\n",
       "    <tr>\n",
       "      <th>3</th>\n",
       "      <td>30</td>\n",
       "      <td>2020-02-01 00:00:29</td>\n",
       "      <td>-0.012</td>\n",
       "      <td>9.328</td>\n",
       "      <td>9.312</td>\n",
       "      <td>-0.022</td>\n",
       "      <td>9.328</td>\n",
       "      <td>53.425</td>\n",
       "      <td>0.0400</td>\n",
       "      <td>1.0</td>\n",
       "      <td>0.0</td>\n",
       "      <td>1.0</td>\n",
       "      <td>1.0</td>\n",
       "      <td>0.0</td>\n",
       "      <td>1.0</td>\n",
       "      <td>1.0</td>\n",
       "      <td>1.0</td>\n",
       "    </tr>\n",
       "    <tr>\n",
       "      <th>4</th>\n",
       "      <td>40</td>\n",
       "      <td>2020-02-01 00:00:39</td>\n",
       "      <td>-0.012</td>\n",
       "      <td>9.318</td>\n",
       "      <td>9.302</td>\n",
       "      <td>-0.022</td>\n",
       "      <td>9.318</td>\n",
       "      <td>53.475</td>\n",
       "      <td>0.0400</td>\n",
       "      <td>1.0</td>\n",
       "      <td>0.0</td>\n",
       "      <td>1.0</td>\n",
       "      <td>1.0</td>\n",
       "      <td>0.0</td>\n",
       "      <td>1.0</td>\n",
       "      <td>1.0</td>\n",
       "      <td>1.0</td>\n",
       "    </tr>\n",
       "  </tbody>\n",
       "</table>\n",
       "</div>"
      ],
      "text/plain": [
       "   Unnamed: 0            timestamp    TP2    TP3     H1  DV_pressure  \\\n",
       "0           0  2020-02-01 00:00:00 -0.012  9.358  9.340       -0.024   \n",
       "1          10  2020-02-01 00:00:10 -0.014  9.348  9.332       -0.022   \n",
       "2          20  2020-02-01 00:00:19 -0.012  9.338  9.322       -0.022   \n",
       "3          30  2020-02-01 00:00:29 -0.012  9.328  9.312       -0.022   \n",
       "4          40  2020-02-01 00:00:39 -0.012  9.318  9.302       -0.022   \n",
       "\n",
       "   Reservoirs  Oil_temperature  Motor_current  COMP  DV_eletric  Towers  MPG  \\\n",
       "0       9.358           53.600         0.0400   1.0         0.0     1.0  1.0   \n",
       "1       9.348           53.675         0.0400   1.0         0.0     1.0  1.0   \n",
       "2       9.338           53.600         0.0425   1.0         0.0     1.0  1.0   \n",
       "3       9.328           53.425         0.0400   1.0         0.0     1.0  1.0   \n",
       "4       9.318           53.475         0.0400   1.0         0.0     1.0  1.0   \n",
       "\n",
       "   LPS  Pressure_switch  Oil_level  Caudal_impulses  \n",
       "0  0.0              1.0        1.0              1.0  \n",
       "1  0.0              1.0        1.0              1.0  \n",
       "2  0.0              1.0        1.0              1.0  \n",
       "3  0.0              1.0        1.0              1.0  \n",
       "4  0.0              1.0        1.0              1.0  "
      ]
     },
     "execution_count": 5,
     "metadata": {},
     "output_type": "execute_result"
    }
   ],
   "source": [
    "df.head()"
   ]
  },
  {
   "cell_type": "markdown",
   "id": "08815e30-077e-43f9-a7fc-c2e6963eba85",
   "metadata": {},
   "source": [
    "Each instance in the dataset represents a snapshot of the compressor's operational state, characterized by various measurements such as pressure readings, motor current, oil temperature, and electrical signals related to system components. By associating these attributes with historical records of failures and anomalies, we can train classification models to recognize early warning signs and preemptively flag instances that exhibit characteristics indicative of impending malfunctions.\n",
    "\n",
    "Through the utilization of classification algorithms such as Decision Trees, Random Forests, Naive Bayes, Support Vector Machines (SVM), and K-Nearest Neighbors (KNN),and ANN we endeavor to construct robust predictive models capable of accurately distinguishing between normal operating conditions and conditions signaling potential failures. By evaluating model performance metrics such as accuracy, F1 score, and confusion matrices, we aim to identify the most effective approach for predicting compressor failures, thereby enabling proactive maintenance interventions and enhancing the reliability and safety of metro train operations."
   ]
  },
  {
   "cell_type": "markdown",
   "id": "c26986c2",
   "metadata": {},
   "source": [
    "# DATA CLEANING PART "
   ]
  },
  {
   "cell_type": "markdown",
   "id": "cc1289d1-c06e-441d-a8a6-3eacbe1d1d9d",
   "metadata": {},
   "source": [
    "In this section, we embark on the crucial step of data cleaning and exploratory data analysis (EDA) to prepare our dataset for modeling. Our primary objectives include identifying and addressing any missing values, duplicates, or highly correlated features, ensuring the integrity and quality of our data for subsequent analysis.\n",
    "\n",
    "We begin by thoroughly examining the dataset for any null values, utilizing visualization techniques and statistical summaries to gain insights into potential data inconsistencies. Additionally, we conduct a comprehensive assessment for duplicate entries, eliminating redundant observations to maintain the integrity of our analysis.\n",
    "\n",
    "Furthermore, we explore the interrelationships between features, employing correlation analysis to identify pairs of attributes exhibiting strong linear associations. By scrutinizing these correlations, we can assess potential multicollinearity issues and refine our feature selection process to mitigate any adverse effects on model performance.\n",
    "\n",
    "Through meticulous data cleaning and EDA, we aim to establish a refined and reliable dataset conducive to the development of robust predictive models. This foundational step lays the groundwork for subsequent modeling efforts, facilitating accurate and actionable insights into the predictive maintenance challenges inherent in the railway industry."
   ]
  },
  {
   "cell_type": "code",
   "execution_count": 6,
   "id": "de19dec5-ae81-44ba-ba82-8232eefd1853",
   "metadata": {},
   "outputs": [
    {
     "data": {
      "text/plain": [
       "(1516948, 17)"
      ]
     },
     "execution_count": 6,
     "metadata": {},
     "output_type": "execute_result"
    }
   ],
   "source": [
    "df.shape"
   ]
  },
  {
   "cell_type": "code",
   "execution_count": 7,
   "id": "1569ce96-374d-4421-8810-a2844c747019",
   "metadata": {},
   "outputs": [
    {
     "data": {
      "text/html": [
       "<div>\n",
       "<style scoped>\n",
       "    .dataframe tbody tr th:only-of-type {\n",
       "        vertical-align: middle;\n",
       "    }\n",
       "\n",
       "    .dataframe tbody tr th {\n",
       "        vertical-align: top;\n",
       "    }\n",
       "\n",
       "    .dataframe thead th {\n",
       "        text-align: right;\n",
       "    }\n",
       "</style>\n",
       "<table border=\"1\" class=\"dataframe\">\n",
       "  <thead>\n",
       "    <tr style=\"text-align: right;\">\n",
       "      <th></th>\n",
       "      <th>Unnamed: 0</th>\n",
       "      <th>TP2</th>\n",
       "      <th>TP3</th>\n",
       "      <th>H1</th>\n",
       "      <th>DV_pressure</th>\n",
       "      <th>Reservoirs</th>\n",
       "      <th>Oil_temperature</th>\n",
       "      <th>Motor_current</th>\n",
       "      <th>COMP</th>\n",
       "      <th>DV_eletric</th>\n",
       "      <th>Towers</th>\n",
       "      <th>MPG</th>\n",
       "      <th>LPS</th>\n",
       "      <th>Pressure_switch</th>\n",
       "      <th>Oil_level</th>\n",
       "      <th>Caudal_impulses</th>\n",
       "    </tr>\n",
       "  </thead>\n",
       "  <tbody>\n",
       "    <tr>\n",
       "      <th>count</th>\n",
       "      <td>1.516948e+06</td>\n",
       "      <td>1.516948e+06</td>\n",
       "      <td>1.516948e+06</td>\n",
       "      <td>1.516948e+06</td>\n",
       "      <td>1.516948e+06</td>\n",
       "      <td>1.516948e+06</td>\n",
       "      <td>1.516948e+06</td>\n",
       "      <td>1.516948e+06</td>\n",
       "      <td>1.516948e+06</td>\n",
       "      <td>1.516948e+06</td>\n",
       "      <td>1.516948e+06</td>\n",
       "      <td>1.516948e+06</td>\n",
       "      <td>1.516948e+06</td>\n",
       "      <td>1.516948e+06</td>\n",
       "      <td>1.516948e+06</td>\n",
       "      <td>1.516948e+06</td>\n",
       "    </tr>\n",
       "    <tr>\n",
       "      <th>mean</th>\n",
       "      <td>7.584735e+06</td>\n",
       "      <td>1.367826e+00</td>\n",
       "      <td>8.984611e+00</td>\n",
       "      <td>7.568155e+00</td>\n",
       "      <td>5.595619e-02</td>\n",
       "      <td>8.985233e+00</td>\n",
       "      <td>6.264418e+01</td>\n",
       "      <td>2.050171e+00</td>\n",
       "      <td>8.369568e-01</td>\n",
       "      <td>1.606106e-01</td>\n",
       "      <td>9.198483e-01</td>\n",
       "      <td>8.326640e-01</td>\n",
       "      <td>3.420025e-03</td>\n",
       "      <td>9.914368e-01</td>\n",
       "      <td>9.041556e-01</td>\n",
       "      <td>9.371066e-01</td>\n",
       "    </tr>\n",
       "    <tr>\n",
       "      <th>std</th>\n",
       "      <td>4.379053e+06</td>\n",
       "      <td>3.250930e+00</td>\n",
       "      <td>6.390951e-01</td>\n",
       "      <td>3.333200e+00</td>\n",
       "      <td>3.824015e-01</td>\n",
       "      <td>6.383070e-01</td>\n",
       "      <td>6.516261e+00</td>\n",
       "      <td>2.302053e+00</td>\n",
       "      <td>3.694052e-01</td>\n",
       "      <td>3.671716e-01</td>\n",
       "      <td>2.715280e-01</td>\n",
       "      <td>3.732757e-01</td>\n",
       "      <td>5.838091e-02</td>\n",
       "      <td>9.214078e-02</td>\n",
       "      <td>2.943779e-01</td>\n",
       "      <td>2.427712e-01</td>\n",
       "    </tr>\n",
       "    <tr>\n",
       "      <th>min</th>\n",
       "      <td>0.000000e+00</td>\n",
       "      <td>-3.200000e-02</td>\n",
       "      <td>7.300000e-01</td>\n",
       "      <td>-3.600000e-02</td>\n",
       "      <td>-3.200000e-02</td>\n",
       "      <td>7.120000e-01</td>\n",
       "      <td>1.540000e+01</td>\n",
       "      <td>2.000000e-02</td>\n",
       "      <td>0.000000e+00</td>\n",
       "      <td>0.000000e+00</td>\n",
       "      <td>0.000000e+00</td>\n",
       "      <td>0.000000e+00</td>\n",
       "      <td>0.000000e+00</td>\n",
       "      <td>0.000000e+00</td>\n",
       "      <td>0.000000e+00</td>\n",
       "      <td>0.000000e+00</td>\n",
       "    </tr>\n",
       "    <tr>\n",
       "      <th>25%</th>\n",
       "      <td>3.792368e+06</td>\n",
       "      <td>-1.400000e-02</td>\n",
       "      <td>8.492000e+00</td>\n",
       "      <td>8.254000e+00</td>\n",
       "      <td>-2.200000e-02</td>\n",
       "      <td>8.494000e+00</td>\n",
       "      <td>5.777500e+01</td>\n",
       "      <td>4.000000e-02</td>\n",
       "      <td>1.000000e+00</td>\n",
       "      <td>0.000000e+00</td>\n",
       "      <td>1.000000e+00</td>\n",
       "      <td>1.000000e+00</td>\n",
       "      <td>0.000000e+00</td>\n",
       "      <td>1.000000e+00</td>\n",
       "      <td>1.000000e+00</td>\n",
       "      <td>1.000000e+00</td>\n",
       "    </tr>\n",
       "    <tr>\n",
       "      <th>50%</th>\n",
       "      <td>7.584735e+06</td>\n",
       "      <td>-1.200000e-02</td>\n",
       "      <td>8.960000e+00</td>\n",
       "      <td>8.784000e+00</td>\n",
       "      <td>-2.000000e-02</td>\n",
       "      <td>8.960000e+00</td>\n",
       "      <td>6.270000e+01</td>\n",
       "      <td>4.500000e-02</td>\n",
       "      <td>1.000000e+00</td>\n",
       "      <td>0.000000e+00</td>\n",
       "      <td>1.000000e+00</td>\n",
       "      <td>1.000000e+00</td>\n",
       "      <td>0.000000e+00</td>\n",
       "      <td>1.000000e+00</td>\n",
       "      <td>1.000000e+00</td>\n",
       "      <td>1.000000e+00</td>\n",
       "    </tr>\n",
       "    <tr>\n",
       "      <th>75%</th>\n",
       "      <td>1.137710e+07</td>\n",
       "      <td>-1.000000e-02</td>\n",
       "      <td>9.492000e+00</td>\n",
       "      <td>9.374000e+00</td>\n",
       "      <td>-1.800000e-02</td>\n",
       "      <td>9.492000e+00</td>\n",
       "      <td>6.725000e+01</td>\n",
       "      <td>3.807500e+00</td>\n",
       "      <td>1.000000e+00</td>\n",
       "      <td>0.000000e+00</td>\n",
       "      <td>1.000000e+00</td>\n",
       "      <td>1.000000e+00</td>\n",
       "      <td>0.000000e+00</td>\n",
       "      <td>1.000000e+00</td>\n",
       "      <td>1.000000e+00</td>\n",
       "      <td>1.000000e+00</td>\n",
       "    </tr>\n",
       "    <tr>\n",
       "      <th>max</th>\n",
       "      <td>1.516947e+07</td>\n",
       "      <td>1.067600e+01</td>\n",
       "      <td>1.030200e+01</td>\n",
       "      <td>1.028800e+01</td>\n",
       "      <td>9.844000e+00</td>\n",
       "      <td>1.030000e+01</td>\n",
       "      <td>8.905000e+01</td>\n",
       "      <td>9.295000e+00</td>\n",
       "      <td>1.000000e+00</td>\n",
       "      <td>1.000000e+00</td>\n",
       "      <td>1.000000e+00</td>\n",
       "      <td>1.000000e+00</td>\n",
       "      <td>1.000000e+00</td>\n",
       "      <td>1.000000e+00</td>\n",
       "      <td>1.000000e+00</td>\n",
       "      <td>1.000000e+00</td>\n",
       "    </tr>\n",
       "  </tbody>\n",
       "</table>\n",
       "</div>"
      ],
      "text/plain": [
       "         Unnamed: 0           TP2           TP3            H1   DV_pressure  \\\n",
       "count  1.516948e+06  1.516948e+06  1.516948e+06  1.516948e+06  1.516948e+06   \n",
       "mean   7.584735e+06  1.367826e+00  8.984611e+00  7.568155e+00  5.595619e-02   \n",
       "std    4.379053e+06  3.250930e+00  6.390951e-01  3.333200e+00  3.824015e-01   \n",
       "min    0.000000e+00 -3.200000e-02  7.300000e-01 -3.600000e-02 -3.200000e-02   \n",
       "25%    3.792368e+06 -1.400000e-02  8.492000e+00  8.254000e+00 -2.200000e-02   \n",
       "50%    7.584735e+06 -1.200000e-02  8.960000e+00  8.784000e+00 -2.000000e-02   \n",
       "75%    1.137710e+07 -1.000000e-02  9.492000e+00  9.374000e+00 -1.800000e-02   \n",
       "max    1.516947e+07  1.067600e+01  1.030200e+01  1.028800e+01  9.844000e+00   \n",
       "\n",
       "         Reservoirs  Oil_temperature  Motor_current          COMP  \\\n",
       "count  1.516948e+06     1.516948e+06   1.516948e+06  1.516948e+06   \n",
       "mean   8.985233e+00     6.264418e+01   2.050171e+00  8.369568e-01   \n",
       "std    6.383070e-01     6.516261e+00   2.302053e+00  3.694052e-01   \n",
       "min    7.120000e-01     1.540000e+01   2.000000e-02  0.000000e+00   \n",
       "25%    8.494000e+00     5.777500e+01   4.000000e-02  1.000000e+00   \n",
       "50%    8.960000e+00     6.270000e+01   4.500000e-02  1.000000e+00   \n",
       "75%    9.492000e+00     6.725000e+01   3.807500e+00  1.000000e+00   \n",
       "max    1.030000e+01     8.905000e+01   9.295000e+00  1.000000e+00   \n",
       "\n",
       "         DV_eletric        Towers           MPG           LPS  \\\n",
       "count  1.516948e+06  1.516948e+06  1.516948e+06  1.516948e+06   \n",
       "mean   1.606106e-01  9.198483e-01  8.326640e-01  3.420025e-03   \n",
       "std    3.671716e-01  2.715280e-01  3.732757e-01  5.838091e-02   \n",
       "min    0.000000e+00  0.000000e+00  0.000000e+00  0.000000e+00   \n",
       "25%    0.000000e+00  1.000000e+00  1.000000e+00  0.000000e+00   \n",
       "50%    0.000000e+00  1.000000e+00  1.000000e+00  0.000000e+00   \n",
       "75%    0.000000e+00  1.000000e+00  1.000000e+00  0.000000e+00   \n",
       "max    1.000000e+00  1.000000e+00  1.000000e+00  1.000000e+00   \n",
       "\n",
       "       Pressure_switch     Oil_level  Caudal_impulses  \n",
       "count     1.516948e+06  1.516948e+06     1.516948e+06  \n",
       "mean      9.914368e-01  9.041556e-01     9.371066e-01  \n",
       "std       9.214078e-02  2.943779e-01     2.427712e-01  \n",
       "min       0.000000e+00  0.000000e+00     0.000000e+00  \n",
       "25%       1.000000e+00  1.000000e+00     1.000000e+00  \n",
       "50%       1.000000e+00  1.000000e+00     1.000000e+00  \n",
       "75%       1.000000e+00  1.000000e+00     1.000000e+00  \n",
       "max       1.000000e+00  1.000000e+00     1.000000e+00  "
      ]
     },
     "execution_count": 7,
     "metadata": {},
     "output_type": "execute_result"
    }
   ],
   "source": [
    "df.describe()"
   ]
  },
  {
   "cell_type": "code",
   "execution_count": 8,
   "id": "8594d53e-2345-4dc5-84cd-c27ec5adbaf8",
   "metadata": {},
   "outputs": [
    {
     "name": "stdout",
     "output_type": "stream",
     "text": [
      "<class 'pandas.core.frame.DataFrame'>\n",
      "RangeIndex: 1516948 entries, 0 to 1516947\n",
      "Data columns (total 17 columns):\n",
      " #   Column           Non-Null Count    Dtype  \n",
      "---  ------           --------------    -----  \n",
      " 0   Unnamed: 0       1516948 non-null  int64  \n",
      " 1   timestamp        1516948 non-null  object \n",
      " 2   TP2              1516948 non-null  float64\n",
      " 3   TP3              1516948 non-null  float64\n",
      " 4   H1               1516948 non-null  float64\n",
      " 5   DV_pressure      1516948 non-null  float64\n",
      " 6   Reservoirs       1516948 non-null  float64\n",
      " 7   Oil_temperature  1516948 non-null  float64\n",
      " 8   Motor_current    1516948 non-null  float64\n",
      " 9   COMP             1516948 non-null  float64\n",
      " 10  DV_eletric       1516948 non-null  float64\n",
      " 11  Towers           1516948 non-null  float64\n",
      " 12  MPG              1516948 non-null  float64\n",
      " 13  LPS              1516948 non-null  float64\n",
      " 14  Pressure_switch  1516948 non-null  float64\n",
      " 15  Oil_level        1516948 non-null  float64\n",
      " 16  Caudal_impulses  1516948 non-null  float64\n",
      "dtypes: float64(15), int64(1), object(1)\n",
      "memory usage: 196.7+ MB\n"
     ]
    }
   ],
   "source": [
    "df.info()"
   ]
  },
  {
   "cell_type": "markdown",
   "id": "b92a4203",
   "metadata": {},
   "source": [
    "**Dropping columns**"
   ]
  },
  {
   "cell_type": "code",
   "execution_count": 9,
   "id": "45be195d",
   "metadata": {},
   "outputs": [],
   "source": [
    "#this column works as an ID column which we are not intrested in \n",
    "df.drop(['Unnamed: 0'], axis=1, inplace=True)\n"
   ]
  },
  {
   "cell_type": "markdown",
   "id": "69d74c02",
   "metadata": {},
   "source": [
    "### We check if there is any nan values to Handle "
   ]
  },
  {
   "cell_type": "code",
   "execution_count": 10,
   "id": "b3392364-8fb4-41ac-b323-85b1ddaff9d7",
   "metadata": {},
   "outputs": [
    {
     "data": {
      "text/plain": [
       "timestamp          0\n",
       "TP2                0\n",
       "TP3                0\n",
       "H1                 0\n",
       "DV_pressure        0\n",
       "Reservoirs         0\n",
       "Oil_temperature    0\n",
       "Motor_current      0\n",
       "COMP               0\n",
       "DV_eletric         0\n",
       "Towers             0\n",
       "MPG                0\n",
       "LPS                0\n",
       "Pressure_switch    0\n",
       "Oil_level          0\n",
       "Caudal_impulses    0\n",
       "dtype: int64"
      ]
     },
     "execution_count": 10,
     "metadata": {},
     "output_type": "execute_result"
    }
   ],
   "source": [
    "df.isna().sum()"
   ]
  },
  {
   "cell_type": "markdown",
   "id": "72844e03",
   "metadata": {},
   "source": [
    "**We see that there is no nan values to handle**"
   ]
  },
  {
   "cell_type": "markdown",
   "id": "41200772",
   "metadata": {},
   "source": [
    "### We check if there are any duplicates"
   ]
  },
  {
   "cell_type": "code",
   "execution_count": 11,
   "id": "fd25eb93",
   "metadata": {},
   "outputs": [
    {
     "data": {
      "text/plain": [
       "0"
      ]
     },
     "execution_count": 11,
     "metadata": {},
     "output_type": "execute_result"
    }
   ],
   "source": [
    "df.duplicated().sum()"
   ]
  },
  {
   "cell_type": "markdown",
   "id": "9da20c22",
   "metadata": {},
   "source": [
    "##### **as we see all the values are false so there is no duplicate value**"
   ]
  },
  {
   "cell_type": "markdown",
   "id": "a65296e7-4071-4bb4-89e6-36bae196cf6f",
   "metadata": {},
   "source": [
    "recheck the data to ensure the modifications "
   ]
  },
  {
   "cell_type": "code",
   "execution_count": 12,
   "id": "6ae5f1d3-b6fc-4fcf-9c5e-7262d24ed2d6",
   "metadata": {},
   "outputs": [
    {
     "data": {
      "text/html": [
       "<div>\n",
       "<style scoped>\n",
       "    .dataframe tbody tr th:only-of-type {\n",
       "        vertical-align: middle;\n",
       "    }\n",
       "\n",
       "    .dataframe tbody tr th {\n",
       "        vertical-align: top;\n",
       "    }\n",
       "\n",
       "    .dataframe thead th {\n",
       "        text-align: right;\n",
       "    }\n",
       "</style>\n",
       "<table border=\"1\" class=\"dataframe\">\n",
       "  <thead>\n",
       "    <tr style=\"text-align: right;\">\n",
       "      <th></th>\n",
       "      <th>timestamp</th>\n",
       "      <th>TP2</th>\n",
       "      <th>TP3</th>\n",
       "      <th>H1</th>\n",
       "      <th>DV_pressure</th>\n",
       "      <th>Reservoirs</th>\n",
       "      <th>Oil_temperature</th>\n",
       "      <th>Motor_current</th>\n",
       "      <th>COMP</th>\n",
       "      <th>DV_eletric</th>\n",
       "      <th>Towers</th>\n",
       "      <th>MPG</th>\n",
       "      <th>LPS</th>\n",
       "      <th>Pressure_switch</th>\n",
       "      <th>Oil_level</th>\n",
       "      <th>Caudal_impulses</th>\n",
       "    </tr>\n",
       "  </thead>\n",
       "  <tbody>\n",
       "    <tr>\n",
       "      <th>0</th>\n",
       "      <td>2020-02-01 00:00:00</td>\n",
       "      <td>-0.012</td>\n",
       "      <td>9.358</td>\n",
       "      <td>9.340</td>\n",
       "      <td>-0.024</td>\n",
       "      <td>9.358</td>\n",
       "      <td>53.600</td>\n",
       "      <td>0.0400</td>\n",
       "      <td>1.0</td>\n",
       "      <td>0.0</td>\n",
       "      <td>1.0</td>\n",
       "      <td>1.0</td>\n",
       "      <td>0.0</td>\n",
       "      <td>1.0</td>\n",
       "      <td>1.0</td>\n",
       "      <td>1.0</td>\n",
       "    </tr>\n",
       "    <tr>\n",
       "      <th>1</th>\n",
       "      <td>2020-02-01 00:00:10</td>\n",
       "      <td>-0.014</td>\n",
       "      <td>9.348</td>\n",
       "      <td>9.332</td>\n",
       "      <td>-0.022</td>\n",
       "      <td>9.348</td>\n",
       "      <td>53.675</td>\n",
       "      <td>0.0400</td>\n",
       "      <td>1.0</td>\n",
       "      <td>0.0</td>\n",
       "      <td>1.0</td>\n",
       "      <td>1.0</td>\n",
       "      <td>0.0</td>\n",
       "      <td>1.0</td>\n",
       "      <td>1.0</td>\n",
       "      <td>1.0</td>\n",
       "    </tr>\n",
       "    <tr>\n",
       "      <th>2</th>\n",
       "      <td>2020-02-01 00:00:19</td>\n",
       "      <td>-0.012</td>\n",
       "      <td>9.338</td>\n",
       "      <td>9.322</td>\n",
       "      <td>-0.022</td>\n",
       "      <td>9.338</td>\n",
       "      <td>53.600</td>\n",
       "      <td>0.0425</td>\n",
       "      <td>1.0</td>\n",
       "      <td>0.0</td>\n",
       "      <td>1.0</td>\n",
       "      <td>1.0</td>\n",
       "      <td>0.0</td>\n",
       "      <td>1.0</td>\n",
       "      <td>1.0</td>\n",
       "      <td>1.0</td>\n",
       "    </tr>\n",
       "    <tr>\n",
       "      <th>3</th>\n",
       "      <td>2020-02-01 00:00:29</td>\n",
       "      <td>-0.012</td>\n",
       "      <td>9.328</td>\n",
       "      <td>9.312</td>\n",
       "      <td>-0.022</td>\n",
       "      <td>9.328</td>\n",
       "      <td>53.425</td>\n",
       "      <td>0.0400</td>\n",
       "      <td>1.0</td>\n",
       "      <td>0.0</td>\n",
       "      <td>1.0</td>\n",
       "      <td>1.0</td>\n",
       "      <td>0.0</td>\n",
       "      <td>1.0</td>\n",
       "      <td>1.0</td>\n",
       "      <td>1.0</td>\n",
       "    </tr>\n",
       "    <tr>\n",
       "      <th>4</th>\n",
       "      <td>2020-02-01 00:00:39</td>\n",
       "      <td>-0.012</td>\n",
       "      <td>9.318</td>\n",
       "      <td>9.302</td>\n",
       "      <td>-0.022</td>\n",
       "      <td>9.318</td>\n",
       "      <td>53.475</td>\n",
       "      <td>0.0400</td>\n",
       "      <td>1.0</td>\n",
       "      <td>0.0</td>\n",
       "      <td>1.0</td>\n",
       "      <td>1.0</td>\n",
       "      <td>0.0</td>\n",
       "      <td>1.0</td>\n",
       "      <td>1.0</td>\n",
       "      <td>1.0</td>\n",
       "    </tr>\n",
       "  </tbody>\n",
       "</table>\n",
       "</div>"
      ],
      "text/plain": [
       "             timestamp    TP2    TP3     H1  DV_pressure  Reservoirs  \\\n",
       "0  2020-02-01 00:00:00 -0.012  9.358  9.340       -0.024       9.358   \n",
       "1  2020-02-01 00:00:10 -0.014  9.348  9.332       -0.022       9.348   \n",
       "2  2020-02-01 00:00:19 -0.012  9.338  9.322       -0.022       9.338   \n",
       "3  2020-02-01 00:00:29 -0.012  9.328  9.312       -0.022       9.328   \n",
       "4  2020-02-01 00:00:39 -0.012  9.318  9.302       -0.022       9.318   \n",
       "\n",
       "   Oil_temperature  Motor_current  COMP  DV_eletric  Towers  MPG  LPS  \\\n",
       "0           53.600         0.0400   1.0         0.0     1.0  1.0  0.0   \n",
       "1           53.675         0.0400   1.0         0.0     1.0  1.0  0.0   \n",
       "2           53.600         0.0425   1.0         0.0     1.0  1.0  0.0   \n",
       "3           53.425         0.0400   1.0         0.0     1.0  1.0  0.0   \n",
       "4           53.475         0.0400   1.0         0.0     1.0  1.0  0.0   \n",
       "\n",
       "   Pressure_switch  Oil_level  Caudal_impulses  \n",
       "0              1.0        1.0              1.0  \n",
       "1              1.0        1.0              1.0  \n",
       "2              1.0        1.0              1.0  \n",
       "3              1.0        1.0              1.0  \n",
       "4              1.0        1.0              1.0  "
      ]
     },
     "execution_count": 12,
     "metadata": {},
     "output_type": "execute_result"
    }
   ],
   "source": [
    "df.head()"
   ]
  },
  {
   "cell_type": "markdown",
   "id": "461085fc",
   "metadata": {},
   "source": [
    "# Labeling data "
   ]
  },
  {
   "cell_type": "markdown",
   "id": "a8b4cd35",
   "metadata": {},
   "source": [
    "As per the report's guidance, we categorize our data into two classes: \"Failure\" and \"Normal\". This binary classification allows us to distinguish between instances representing compressor malfunctions (\"Failure\") and those depicting regular operation (\"Normal\"). This labeling strategy serves as the basis for training our predictive models, enabling them to identify patterns indicative of potential failures and enhance the reliability of metro train operations."
   ]
  },
  {
   "cell_type": "code",
   "execution_count": 13,
   "id": "4b37abd8-6e0d-44e3-b89e-7d8a9ef1935c",
   "metadata": {},
   "outputs": [],
   "source": [
    "# Initially, all data is labeled as \"up\" (0)\n",
    "df['down'] = 0\n",
    "\n",
    "# Define the periods when the machine was down from the report\n",
    "down_periods = [\n",
    "    ('2020-04-18 00:00:00', '2020-04-18 23:59:00'),\n",
    "    ('2020-05-29 23:30:00', '2020-05-30 06:00:00'),\n",
    "    ('2020-06-05 10:00:00', '2020-06-07 14:30:00'),\n",
    "    ('2020-07-15 14:30:00', '2020-07-15 19:00:00')\n",
    "]\n",
    "# Label the corresponding rows as \"down\" within the specified periods\n",
    "for start, end in down_periods:\n",
    "    df.loc[(df['timestamp'] >= start) & (df['timestamp'] <= end), 'down'] = 1\n",
    "\n"
   ]
  },
  {
   "cell_type": "code",
   "execution_count": 14,
   "id": "986b560a-ca86-44c7-8b05-f56f26aa0c17",
   "metadata": {},
   "outputs": [],
   "source": [
    "#dropping the timestamp for this dataset which will not serve our modelling objectives\n",
    "#df.drop(['timestamp'], axis=1, inplace=True)"
   ]
  },
  {
   "cell_type": "code",
   "execution_count": 15,
   "id": "b1963a66-b8fb-4468-85a6-1c2c35d8c882",
   "metadata": {},
   "outputs": [
    {
     "data": {
      "text/html": [
       "<div>\n",
       "<style scoped>\n",
       "    .dataframe tbody tr th:only-of-type {\n",
       "        vertical-align: middle;\n",
       "    }\n",
       "\n",
       "    .dataframe tbody tr th {\n",
       "        vertical-align: top;\n",
       "    }\n",
       "\n",
       "    .dataframe thead th {\n",
       "        text-align: right;\n",
       "    }\n",
       "</style>\n",
       "<table border=\"1\" class=\"dataframe\">\n",
       "  <thead>\n",
       "    <tr style=\"text-align: right;\">\n",
       "      <th></th>\n",
       "      <th>timestamp</th>\n",
       "      <th>TP2</th>\n",
       "      <th>TP3</th>\n",
       "      <th>H1</th>\n",
       "      <th>DV_pressure</th>\n",
       "      <th>Reservoirs</th>\n",
       "      <th>Oil_temperature</th>\n",
       "      <th>Motor_current</th>\n",
       "      <th>COMP</th>\n",
       "      <th>DV_eletric</th>\n",
       "      <th>Towers</th>\n",
       "      <th>MPG</th>\n",
       "      <th>LPS</th>\n",
       "      <th>Pressure_switch</th>\n",
       "      <th>Oil_level</th>\n",
       "      <th>Caudal_impulses</th>\n",
       "      <th>down</th>\n",
       "    </tr>\n",
       "  </thead>\n",
       "  <tbody>\n",
       "    <tr>\n",
       "      <th>0</th>\n",
       "      <td>2020-02-01 00:00:00</td>\n",
       "      <td>-0.012</td>\n",
       "      <td>9.358</td>\n",
       "      <td>9.340</td>\n",
       "      <td>-0.024</td>\n",
       "      <td>9.358</td>\n",
       "      <td>53.600</td>\n",
       "      <td>0.0400</td>\n",
       "      <td>1.0</td>\n",
       "      <td>0.0</td>\n",
       "      <td>1.0</td>\n",
       "      <td>1.0</td>\n",
       "      <td>0.0</td>\n",
       "      <td>1.0</td>\n",
       "      <td>1.0</td>\n",
       "      <td>1.0</td>\n",
       "      <td>0</td>\n",
       "    </tr>\n",
       "    <tr>\n",
       "      <th>1</th>\n",
       "      <td>2020-02-01 00:00:10</td>\n",
       "      <td>-0.014</td>\n",
       "      <td>9.348</td>\n",
       "      <td>9.332</td>\n",
       "      <td>-0.022</td>\n",
       "      <td>9.348</td>\n",
       "      <td>53.675</td>\n",
       "      <td>0.0400</td>\n",
       "      <td>1.0</td>\n",
       "      <td>0.0</td>\n",
       "      <td>1.0</td>\n",
       "      <td>1.0</td>\n",
       "      <td>0.0</td>\n",
       "      <td>1.0</td>\n",
       "      <td>1.0</td>\n",
       "      <td>1.0</td>\n",
       "      <td>0</td>\n",
       "    </tr>\n",
       "    <tr>\n",
       "      <th>2</th>\n",
       "      <td>2020-02-01 00:00:19</td>\n",
       "      <td>-0.012</td>\n",
       "      <td>9.338</td>\n",
       "      <td>9.322</td>\n",
       "      <td>-0.022</td>\n",
       "      <td>9.338</td>\n",
       "      <td>53.600</td>\n",
       "      <td>0.0425</td>\n",
       "      <td>1.0</td>\n",
       "      <td>0.0</td>\n",
       "      <td>1.0</td>\n",
       "      <td>1.0</td>\n",
       "      <td>0.0</td>\n",
       "      <td>1.0</td>\n",
       "      <td>1.0</td>\n",
       "      <td>1.0</td>\n",
       "      <td>0</td>\n",
       "    </tr>\n",
       "    <tr>\n",
       "      <th>3</th>\n",
       "      <td>2020-02-01 00:00:29</td>\n",
       "      <td>-0.012</td>\n",
       "      <td>9.328</td>\n",
       "      <td>9.312</td>\n",
       "      <td>-0.022</td>\n",
       "      <td>9.328</td>\n",
       "      <td>53.425</td>\n",
       "      <td>0.0400</td>\n",
       "      <td>1.0</td>\n",
       "      <td>0.0</td>\n",
       "      <td>1.0</td>\n",
       "      <td>1.0</td>\n",
       "      <td>0.0</td>\n",
       "      <td>1.0</td>\n",
       "      <td>1.0</td>\n",
       "      <td>1.0</td>\n",
       "      <td>0</td>\n",
       "    </tr>\n",
       "    <tr>\n",
       "      <th>4</th>\n",
       "      <td>2020-02-01 00:00:39</td>\n",
       "      <td>-0.012</td>\n",
       "      <td>9.318</td>\n",
       "      <td>9.302</td>\n",
       "      <td>-0.022</td>\n",
       "      <td>9.318</td>\n",
       "      <td>53.475</td>\n",
       "      <td>0.0400</td>\n",
       "      <td>1.0</td>\n",
       "      <td>0.0</td>\n",
       "      <td>1.0</td>\n",
       "      <td>1.0</td>\n",
       "      <td>0.0</td>\n",
       "      <td>1.0</td>\n",
       "      <td>1.0</td>\n",
       "      <td>1.0</td>\n",
       "      <td>0</td>\n",
       "    </tr>\n",
       "  </tbody>\n",
       "</table>\n",
       "</div>"
      ],
      "text/plain": [
       "             timestamp    TP2    TP3     H1  DV_pressure  Reservoirs  \\\n",
       "0  2020-02-01 00:00:00 -0.012  9.358  9.340       -0.024       9.358   \n",
       "1  2020-02-01 00:00:10 -0.014  9.348  9.332       -0.022       9.348   \n",
       "2  2020-02-01 00:00:19 -0.012  9.338  9.322       -0.022       9.338   \n",
       "3  2020-02-01 00:00:29 -0.012  9.328  9.312       -0.022       9.328   \n",
       "4  2020-02-01 00:00:39 -0.012  9.318  9.302       -0.022       9.318   \n",
       "\n",
       "   Oil_temperature  Motor_current  COMP  DV_eletric  Towers  MPG  LPS  \\\n",
       "0           53.600         0.0400   1.0         0.0     1.0  1.0  0.0   \n",
       "1           53.675         0.0400   1.0         0.0     1.0  1.0  0.0   \n",
       "2           53.600         0.0425   1.0         0.0     1.0  1.0  0.0   \n",
       "3           53.425         0.0400   1.0         0.0     1.0  1.0  0.0   \n",
       "4           53.475         0.0400   1.0         0.0     1.0  1.0  0.0   \n",
       "\n",
       "   Pressure_switch  Oil_level  Caudal_impulses  down  \n",
       "0              1.0        1.0              1.0     0  \n",
       "1              1.0        1.0              1.0     0  \n",
       "2              1.0        1.0              1.0     0  \n",
       "3              1.0        1.0              1.0     0  \n",
       "4              1.0        1.0              1.0     0  "
      ]
     },
     "execution_count": 15,
     "metadata": {},
     "output_type": "execute_result"
    }
   ],
   "source": [
    "df.head()"
   ]
  },
  {
   "cell_type": "code",
   "execution_count": 16,
   "id": "35a2307c",
   "metadata": {},
   "outputs": [
    {
     "data": {
      "text/plain": [
       "0    1486994\n",
       "1      29954\n",
       "Name: down, dtype: int64"
      ]
     },
     "execution_count": 16,
     "metadata": {},
     "output_type": "execute_result"
    }
   ],
   "source": [
    "df['down'].value_counts()"
   ]
  },
  {
   "cell_type": "markdown",
   "id": "44890149-f1d3-45ab-bb6d-dceae4c15cad",
   "metadata": {},
   "source": [
    "# Exploring the target column "
   ]
  },
  {
   "cell_type": "code",
   "execution_count": 17,
   "id": "ebcde9c2-1b5c-4e2f-a743-cfcd810ac68f",
   "metadata": {},
   "outputs": [
    {
     "data": {
      "image/png": "[encoded data removed]",
      "text/plain": [
       "<Figure size 600x400 with 1 Axes>"
      ]
     },
     "metadata": {},
     "output_type": "display_data"
    }
   ],
   "source": [
    "# Plot the count of occurrences of each value in the 'down' column as proportions\n",
    "plt.figure(figsize=(6, 4))\n",
    "df['down'].value_counts(normalize=True).plot(kind='pie', autopct='%1.1f%%')\n",
    "plt.title('Proportions of Down Events')\n",
    "plt.ylabel('')\n",
    "plt.show()"
   ]
  },
  {
   "cell_type": "markdown",
   "id": "8fa11eb4",
   "metadata": {},
   "source": [
    "We observe that our dataset exhibits class imbalance, with one class significantly outnumbering the other. This imbalance can potentially impact the performance of our predictive models, as they may become biased towards the majority class and struggle to accurately identify instances of the minority class.\n",
    "\n",
    "To address this issue, we need to implement strategies to mitigate the effects of class imbalance. This can include techniques such as:\n",
    "\n",
    "1. **Resampling Methods**: Utilize techniques like oversampling the minority class or undersampling the majority class to balance the distribution of classes in the dataset.\n",
    "  \n",
    "2. **Algorithmic Approaches**: Implement algorithms specifically designed to handle imbalanced data, such as ensemble methods like Random Forests or gradient boosting, or algorithms that incorporate class weights to penalize misclassifications of the minority class more heavily.\n",
    "  \n",
    "3. **Evaluation Metrics**: Focus on evaluation metrics that are robust to class imbalance, such as F1-score, precision-recall curves, or area under the receiver operating characteristic (ROC) curve.\n",
    "\n",
    "By addressing class imbalance effectively, we can enhance the performance and generalization capabilities of our predictive models, ultimately improving their ability to accurately identify instances of both classes in our dataset."
   ]
  },
  {
   "cell_type": "markdown",
   "id": "a760c958-1240-48c8-b76d-9502a6ed227d",
   "metadata": {},
   "source": [
    "The imbalance in our dataset is intrinsic to the anomaly detection task we're tackling. Anomaly detection involves identifying rare events amidst predominantly normal instances. In our case, failures or anomalies in the compressor's APU are infrequent compared to normal operation. This imbalance poses challenges for traditional classification algorithms, necessitating specialized techniques and evaluation metrics tailored to address it. By acknowledging and adapting to this imbalance, we can develop effective  systems crucial for ensuring the reliability and safety of critical systems like the APU in metro trains."
   ]
  },
  {
   "cell_type": "markdown",
   "id": "2467fb9a",
   "metadata": {},
   "source": [
    "# Data Exploratory Analysis"
   ]
  },
  {
   "cell_type": "markdown",
   "id": "bed78437-cb8f-472e-8463-d30ac92bb95b",
   "metadata": {},
   "source": [
    "In conducting the data exploratory analysis (EDA), we delved into the characteristics of our dataset to gain a comprehensive understanding of its structure and content. Through visualizations such as histograms for numerical features and count plots for categorical features, we examined the distribution of each attribute. This exploration allowed us to identify any notable patterns, outliers, or anomalies present in the data. Furthermore, we assessed the relationships between different variables, uncovering potential correlations or dependencies that could inform our subsequent modeling efforts. By scrutinizing the data in this manner, we laid the groundwork for informed decision-making and feature engineering, setting the stage for the development of robust predictive models."
   ]
  },
  {
   "cell_type": "markdown",
   "id": "530a234a-301f-45f2-8f6e-362b1c6f2e50",
   "metadata": {},
   "source": [
    "# Splitting data\n",
    "Splitting our dataset into training and testing sets before preprocessing is imperative to prevent data leakage. This practice ensures that our preprocessing steps are applied independently to each set, safeguarding the integrity of our model evaluation and promoting its generalizability."
   ]
  },
  {
   "cell_type": "code",
   "execution_count": 18,
   "id": "b29b6875-538c-438b-b252-1539aaa8f15f",
   "metadata": {},
   "outputs": [],
   "source": [
    "\n",
    "X = df.drop(columns=['down'] , axis=1)  \n",
    "y = df['down']                 \n",
    "\n",
    "# Perform stratified sampling\n",
    "X_train, X_test, y_train, y_test = train_test_split(X, y, test_size=0.2, random_state=42, stratify=y)"
   ]
  },
  {
   "cell_type": "markdown",
   "id": "321f6956-bdff-440a-91c5-324ea6b447a6",
   "metadata": {},
   "source": [
    "## Checking columns : "
   ]
  },
  {
   "cell_type": "code",
   "execution_count": 19,
   "id": "c6767fb2-f0bd-4d1c-b953-0b54ff902a6c",
   "metadata": {},
   "outputs": [
    {
     "name": "stdout",
     "output_type": "stream",
     "text": [
      "timestamp          1213558\n",
      "TP2                   5196\n",
      "TP3                   3474\n",
      "H1                    2485\n",
      "DV_pressure           2120\n",
      "Reservoirs            3473\n",
      "Oil_temperature       2398\n",
      "Motor_current         1713\n",
      "COMP                     2\n",
      "DV_eletric               2\n",
      "Towers                   2\n",
      "MPG                      2\n",
      "LPS                      2\n",
      "Pressure_switch          2\n",
      "Oil_level                2\n",
      "Caudal_impulses          2\n",
      "dtype: int64\n"
     ]
    }
   ],
   "source": [
    "unique_values_per_feature = X_train.nunique()\n",
    "\n",
    "print(unique_values_per_feature)"
   ]
  },
  {
   "cell_type": "markdown",
   "id": "175857a6-4013-44ea-b470-b6cc435fb957",
   "metadata": {},
   "source": [
    "These observations provide valuable insights into the distribution and prevalence of each feature in the dataset, which can inform subsequent data preprocessing and modeling steps."
   ]
  },
  {
   "cell_type": "markdown",
   "id": "c242784c-e86a-41ab-bd6b-686e58a6e89a",
   "metadata": {},
   "source": [
    "## Converting binary columns "
   ]
  },
  {
   "cell_type": "code",
   "execution_count": 20,
   "id": "2a82a226-5ed7-4cc8-a2ac-bf9a095c1c7f",
   "metadata": {},
   "outputs": [],
   "source": [
    "binary_columns = ['COMP', 'DV_eletric', 'Towers', 'MPG', 'LPS', 'Pressure_switch', 'Oil_level', 'Caudal_impulses']\n",
    "for column in binary_columns:\n",
    "    df[column] = df[column].astype(int)"
   ]
  },
  {
   "cell_type": "code",
   "execution_count": null,
   "id": "2b052a34-03e0-48ba-99d2-066620dd902d",
   "metadata": {},
   "outputs": [],
   "source": [
    "\n",
    "sns.set_style(\"whitegrid\")\n",
    "\n",
    "\n",
    "numerical_cols = X_train.select_dtypes(include=['float64', 'int64']).columns\n",
    "categorical_cols = X_train.select_dtypes(include=['object']).columns\n",
    "\n",
    "\n",
    "for col in numerical_cols:\n",
    "    plt.figure(figsize=(4, 2))\n",
    "    sns.histplot(data=X_train, x=col, kde=True)\n",
    "    plt.title(f'Distribution of {col}')\n",
    "    plt.xlabel(col)\n",
    "    plt.ylabel('Frequency')\n",
    "    plt.show()\n",
    "\n",
    "\n",
    "for col in categorical_cols:\n",
    "    plt.figure(figsize=(4, 2))\n",
    "    sns.countplot(data=X_train, x=col)\n",
    "    plt.title(f'Count of {col}')\n",
    "    plt.xlabel(col)\n",
    "    plt.ylabel('Count')\n",
    "    plt.show()"
   ]
  },
  {
   "cell_type": "markdown",
   "id": "f24953a9-6b69-4a53-92a9-6fa5d517c327",
   "metadata": {},
   "source": [
    "## Checking the correlation between the Features : "
   ]
  },
  {
   "cell_type": "markdown",
   "id": "aca1cfd3-58be-473b-8785-071c9a9de2ea",
   "metadata": {},
   "source": [
    "The heatmap is generated with the upper triangle masked to avoid redundancy, as correlation matrices are symmetrical along the diagonal. Each cell in the heatmap represents the correlation coefficient between two features, ranging from -1 to 1. The annotation parameter is set to True to display the correlation values in each cell. The color map ('coolwarm') is chosen to visually represent the strength and direction of correlations. Finally, the plot is labeled with a title and axis labels for clarity."
   ]
  },
  {
   "cell_type": "code",
   "execution_count": null,
   "id": "a3d1227f",
   "metadata": {},
   "outputs": [],
   "source": [
    "# Calculate the correlation matrix\n",
    "correlation_matrix = X_train.corr()\n",
    "\n",
    "# Find pairs of highly correlated features\n",
    "highly_correlated_pairs = (correlation_matrix.abs() > 0.95) & (correlation_matrix.abs() < 1.0)\n",
    "highly_correlated_features = set()\n",
    "for col in correlation_matrix.columns:\n",
    "    correlated_cols = correlation_matrix.index[highly_correlated_pairs[col]].tolist()\n",
    "    for correlated_col in correlated_cols:\n",
    "        highly_correlated_features.add((col, correlated_col))\n",
    "\n",
    "# Print highly correlated pairs\n",
    "print(\"Highly correlated features:\")\n",
    "for pair in highly_correlated_features:\n",
    "    print(pair)\n",
    "\n",
    "# Visualize the correlation matrix\n",
    "plt.figure(figsize=(12, 8))\n",
    "sns.heatmap(correlation_matrix, cmap='coolwarm', annot=True, fmt=\".2f\")\n",
    "plt.title('Correlation Heatmap')\n",
    "plt.show()\n"
   ]
  },
  {
   "cell_type": "markdown",
   "id": "a3d05e2a-3f81-4b4b-82c3-de04c7d3f66d",
   "metadata": {},
   "source": [
    "## Dropping the highly correlated columns and redrawing the correlation matrix :"
   ]
  },
  {
   "cell_type": "code",
   "execution_count": null,
   "id": "f289483f",
   "metadata": {},
   "outputs": [],
   "source": [
    "columns_to_drop = ['TP3', 'H1', 'COMP' ,'DV_eletric']\n",
    "X_train.drop(columns=columns_to_drop, inplace=True)\n",
    "# Compute the correlation matrix for the updated training data\n",
    "updated_correlation_matrix = X_train.corr()\n",
    "\n",
    "# Generate a mask for the upper triangle\n",
    "mask = np.triu(np.ones_like(updated_correlation_matrix, dtype=bool))\n",
    "\n",
    "# Plotting the heatmap with upper triangle masked\n",
    "plt.figure(figsize=(12, 8))\n",
    "sns.heatmap(updated_correlation_matrix, mask=mask, annot=True, cmap='coolwarm', fmt=\".2f\")\n",
    "plt.title('Updated Correlation Heatmap (Upper Triangle)')\n",
    "plt.show()\n"
   ]
  },
  {
   "cell_type": "markdown",
   "id": "ff3a8572-bdaf-4daf-8ce4-5a042fd776f1",
   "metadata": {},
   "source": [
    "## Checking outliers : "
   ]
  },
  {
   "cell_type": "code",
   "execution_count": null,
   "id": "8ba6385e",
   "metadata": {},
   "outputs": [],
   "source": [
    "sns.set_style(\"whitegrid\")\n",
    "\n",
    "numerical_cols = X_train.select_dtypes(include=['float64', 'int64']).columns\n",
    "\n",
    "plt.figure(figsize=(8, 6))\n",
    "sns.boxplot(data=X_train[numerical_cols])\n",
    "plt.title('Box Plot of Numerical Features')\n",
    "plt.xlabel('Features')\n",
    "plt.ylabel('Values')\n",
    "plt.xticks(rotation=45)\n",
    "plt.show()"
   ]
  },
  {
   "cell_type": "markdown",
   "id": "c47c9ad6-67bf-41dd-8515-e970aa4012c4",
   "metadata": {},
   "source": [
    "In the context of anomaly detection, the presence of outliers in our data is particularly pertinent as anomalies often represent rare or unusual events that deviate significantly from normal behavior. Retaining outliers in our dataset is essential for accurately capturing these anomalous instances and training our model to recognize them effectively. These outliers serve as valuable examples that contribute to the robustness and generalizability of our anomaly detection system. By incorporating outliers into our training data, we enable our model to learn the diverse range of patterns and anomalies present in real-world scenarios, ultimately enhancing its ability to accurately identify and flag anomalies in unseen data. Therefore, in the pursuit of developing a reliable and effective anomaly detection model, embracing outliers as integral components of our training dataset is imperative, ensuring that our system is well-equipped to detect and mitigate potential anomalies in critical systems and processes."
   ]
  },
  {
   "cell_type": "markdown",
   "id": "e34af383",
   "metadata": {},
   "source": [
    "## handling the imbalancing class"
   ]
  },
  {
   "cell_type": "code",
   "execution_count": null,
   "id": "771c6004",
   "metadata": {},
   "outputs": [],
   "source": [
    "from sklearn.cluster import KMeans\n",
    "\n",
    "down_samples = X_train[X_train['down'] == 1]\n",
    "non_down_samples = X_train[X_train['down'] == 0]\n",
    "\n",
    "\n",
    "#Perform K-means clustering on down_samples with k=50000\n",
    "kmeans = KMeans(n_clusters=50000, random_state=42)\n",
    "down_samples_features = down_samples.drop(columns=['down'])  # Remove the 'down' column for clustering\n",
    "kmeans.fit(down_samples_features)\n",
    "\n",
    "\n"
   ]
  },
  {
   "cell_type": "code",
   "execution_count": null,
   "id": "c329f95f",
   "metadata": {},
   "outputs": [],
   "source": [
    "# Find the closest sample to the cluster center for each cluster\n",
    "down_samples['cluster'] = kmeans.labels_\n",
    "cluster_centers = kmeans.cluster_centers_\n",
    "representatives = []\n",
    "\n",
    "for cluster_label in range(50000):\n",
    "    cluster_samples = down_samples[down_samples['cluster'] == cluster_label]\n",
    "    cluster_features = cluster_samples.drop(columns=['down', 'cluster'])\n",
    "    center = cluster_centers[cluster_label]\n",
    "    distances = np.linalg.norm(cluster_features.values - center, axis=1)\n",
    "    representative_index = distances.argmin()\n",
    "    representatives.append(cluster_samples.iloc[representative_index])\n"
   ]
  },
  {
   "cell_type": "code",
   "execution_count": null,
   "id": "21645384",
   "metadata": {},
   "outputs": [],
   "source": [
    "# Create a DataFrame from the representatives\n",
    "representatives_df = pd.DataFrame(representatives)\n",
    "\n",
    "# Step 4: Combine the representatives with the original non_down_samples\n",
    "X_train = pd.concat([non_down_samples, representatives_df.drop(columns=['cluster'])])\n",
    "\n",
    "# Drop any temporary columns if necessary\n",
    "X_train.reset_index(drop=True, inplace=True)\n",
    "\n",
    "# Print the new X_train shape to confirm\n",
    "print(\"New X_train shape:\", X_train.shape)\n"
   ]
  },
  {
   "cell_type": "markdown",
   "id": "484f2b1a",
   "metadata": {},
   "source": [
    "# GRAPHS\n"
   ]
  },
  {
   "cell_type": "code",
   "execution_count": null,
   "id": "c064bb9d",
   "metadata": {},
   "outputs": [],
   "source": [
    "columns_of_interest = ['TP2', 'DV_pressure', 'DV_pressure' ,'Reservoirs' , 'Oil_temperature' ,'Motor_current']"
   ]
  },
  {
   "cell_type": "code",
   "execution_count": null,
   "id": "5e8fad09",
   "metadata": {},
   "outputs": [],
   "source": [
    "columns_mean={}\n",
    "std_mean={}\n",
    "for column in columns_of_interest:\n",
    "    columns_mean[column] = df[column].mean()\n",
    "    std_mean[column] = df[column].std()"
   ]
  },
  {
   "cell_type": "code",
   "execution_count": null,
   "id": "256b5af7",
   "metadata": {},
   "outputs": [],
   "source": [
    " #Concatenate X_train and y_train into df_train\n",
    "df_train = pd.concat([X_train, y_train], axis=1)\n",
    "\n",
    "# Filter rows where 'down' == 1\n",
    "df_filtered = df_train[df_train['down'] == 1]\n",
    "\n",
    "# Plot the evolution of columns of interest\n",
    "num_columns = len(columns_of_interest)\n",
    "fig, axs = plt.subplots(num_columns, 1, figsize=(12, 8 * num_columns))\n",
    "\n",
    "for i, column in enumerate(columns_of_interest):\n",
    "    axs[i].plot(df_filtered['timestamp'], df_filtered[column], label=f\"{column}\")\n",
    "    axs[i].axhline(y=columns_mean[column], color='r', linestyle='--', label=f\"Mean of {column}\")\n",
    "    axs[i].set_xlabel('Timestamp')\n",
    "    axs[i].set_ylabel(column)\n",
    "    axs[i].set_title(f'Evolution of {column} with Mean')\n",
    "    axs[i].legend()\n",
    "\n",
    "plt.tight_layout()\n",
    "plt.show()"
   ]
  },
  {
   "cell_type": "code",
   "execution_count": null,
   "id": "b5c7ccb5",
   "metadata": {},
   "outputs": [],
   "source": [
    "binary_columns = ['Towers', 'MPG', 'LPS', 'Pressure_switch', 'Oil_level', 'Caudal_impulses']\n",
    "target_variable = 'down'"
   ]
  },
  {
   "cell_type": "code",
   "execution_count": null,
   "id": "6de5d31e",
   "metadata": {},
   "outputs": [],
   "source": [
    "for column in binary_columns:\n",
    "    counts = df[column].value_counts()\n",
    "    total_entries = counts.sum()\n",
    "    print(f\"Counts and Proportions for '{column}':\")\n",
    "    for index, count in counts.items():\n",
    "        proportion = count / total_entries\n",
    "        print(f\"{index}: {count} ({proportion:.2%})\")\n",
    "    print()\n"
   ]
  },
  {
   "cell_type": "code",
   "execution_count": null,
   "id": "77422622",
   "metadata": {
    "scrolled": false
   },
   "outputs": [],
   "source": [
    "# Set up the plotting environment\n",
    "sns.set(style=\"whitegrid\")\n",
    "\n",
    "# Iterate through each column and create bar plots\n",
    "for column in binary_columns:\n",
    "    counts = df[column].value_counts()\n",
    "    total_entries = counts.sum()\n",
    "    proportions = counts / total_entries\n",
    "    \n",
    "    fig, ax1 = plt.subplots(figsize=(8, 6))\n",
    "    \n",
    "    # Bar plot for counts\n",
    "    sns.barplot(x=counts.index, y=counts.values, ax=ax1, color='b', alpha=0.6)\n",
    "    ax1.set_ylabel('Counts', color='b')\n",
    "    ax1.set_xlabel(column)\n",
    "    \n",
    "   \n",
    "    \n",
    "    plt.title(f\"Counts and Proportions for '{column}'\")\n",
    "    plt.show()"
   ]
  },
  {
   "cell_type": "markdown",
   "id": "b5c9ac1a",
   "metadata": {},
   "source": [
    "## droping timestamp"
   ]
  },
  {
   "cell_type": "code",
   "execution_count": null,
   "id": "468c6352",
   "metadata": {},
   "outputs": [],
   "source": [
    "X_train.drop(['timestamp'], axis = 1 , inplace = True)"
   ]
  },
  {
   "cell_type": "markdown",
   "id": "7fef7e73",
   "metadata": {},
   "source": [
    "## Normalize the training DATA"
   ]
  },
  {
   "cell_type": "markdown",
   "id": "647c2646",
   "metadata": {},
   "source": [
    "To avoid data leakage, it is crucial to normalize the training data first and then apply the same normalization parameters to the test data."
   ]
  },
  {
   "cell_type": "code",
   "execution_count": null,
   "id": "1c51108d",
   "metadata": {},
   "outputs": [],
   "source": [
    "X_train.nunique()"
   ]
  },
  {
   "cell_type": "code",
   "execution_count": null,
   "id": "1fd77071",
   "metadata": {},
   "outputs": [],
   "source": [
    "columns_to_normalize = ['TP2', 'DV_pressure', 'DV_pressure' ,'Reservoirs' , 'Oil_temperature' ,'Motor_current']"
   ]
  },
  {
   "cell_type": "code",
   "execution_count": null,
   "id": "dbe2dc1e",
   "metadata": {},
   "outputs": [],
   "source": [
    "scaler = StandardScaler()\n",
    "X_train[columns_to_normalize] = scaler.fit_transform(X_train[columns_to_normalize])\n",
    "\n",
    "#Save the fitted scaler to a file\n",
    "joblib.dump(scaler, 'scaler.pkl')    "
   ]
  },
  {
   "cell_type": "code",
   "execution_count": null,
   "id": "76056f5e",
   "metadata": {},
   "outputs": [],
   "source": [
    "mean = X_train.mean()\n",
    "std = X_train.std()\n",
    "\n",
    "#  Normalize the training data\n",
    "X_training_normalized = (X_train - mean) / std\n",
    "\n",
    "#  Save the normalization parameters\n",
    "normalization_params = {\n",
    "    'mean': mean,\n",
    "    'std': std\n",
    "}"
   ]
  },
  {
   "cell_type": "markdown",
   "id": "0923e5e7-622f-4ae1-a3b9-b7495d09d180",
   "metadata": {},
   "source": [
    "## Processing the test data : \n",
    "When processing the test data, it's important to note that we will apply the same preprocessing steps that were performed on the training data. This ensures consistency and prevents any data leakage or inconsistencies between the training and test datasets. Specifically, we will apply any transformations, such as feature scaling or encoding categorical variables, that were applied to the training data. By maintaining consistency in preprocessing, we ensure that the test data is properly prepared for input into the model, allowing for accurate evaluation of its performance on unseen data.\n",
    "\n",
    "\n",
    "\n"
   ]
  },
  {
   "cell_type": "code",
   "execution_count": null,
   "id": "2d96fb36-07d8-4011-a8fe-a42733b0c204",
   "metadata": {},
   "outputs": [],
   "source": [
    "binary_columns = ['COMP', 'DV_eletric', 'Towers', 'MPG', 'LPS', 'Pressure_switch', 'Oil_level', 'Caudal_impulses']\n",
    "for column in binary_columns:\n",
    "    df[column] = X_test[column].astype(int)\n",
    "X_test.drop(columns=columns_to_drop, inplace=True)"
   ]
  },
  {
   "cell_type": "markdown",
   "id": "eea91f4a",
   "metadata": {},
   "source": [
    "Normalize the test data "
   ]
  },
  {
   "cell_type": "code",
   "execution_count": null,
   "id": "cfd72d85",
   "metadata": {},
   "outputs": [],
   "source": [
    "scaler = joblib.load('scaler.pkl')\n",
    "X_test[columns_to_normalize] = scaler.transform(X_test[columns_to_normalize])\n"
   ]
  },
  {
   "cell_type": "markdown",
   "id": "312e0d17",
   "metadata": {},
   "source": [
    "# MODELLING"
   ]
  },
  {
   "cell_type": "markdown",
   "id": "9d42eb78-5cf7-4eee-8878-ed2d5080c308",
   "metadata": {},
   "source": [
    "As we transition to the modeling phase, our focus shifts towards developing a robust classification model aimed at predicting failures in the compressor's Air Production Unit (APU). Leveraging the insights gained from data exploration and preprocessing, we are poised to construct predictive models using a variety of machine learning algorithms tailored to the classification task. Our objective is to accurately classify instances as either indicative of an impending failure or as normal operation, thereby enabling proactive maintenance and mitigating potential disruptions in metro train operations. Through rigorous evaluation and fine-tuning of model parameters, we aim to optimize performance metrics such as accuracy, precision, recall, and F1-score, ensuring the reliability and effectiveness of our predictive maintenance system. By harnessing the power of classification algorithms and leveraging domain knowledge, we seek to develop a predictive model that contributes to the enhancement of safety and operational efficiency in the railway industry."
   ]
  },
  {
   "cell_type": "markdown",
   "id": "cc6a901b-41a0-4863-bfcb-9cce4a47e209",
   "metadata": {},
   "source": [
    "## Decision tree Classifier \n",
    "We kick off our modeling efforts with a decision tree classifier, aiming to predict compressor failures in the Air Production Unit (APU) of metro trains. The decision tree's ability to handle both numerical and categorical data makes it an ideal starting point for this classification task. Our goal is to develop an interpretable model that identifies potential failures, enabling proactive maintenance and ensuring the uninterrupted operation of metro train systems. Through iterative training and evaluation, we aim to optimize the decision tree's performance, prioritizing both accuracy and interpretability in our pursuit of enhancing system reliability."
   ]
  },
  {
   "cell_type": "code",
   "execution_count": null,
   "id": "0be86ed0-092f-4ecd-b882-8b4920325a91",
   "metadata": {},
   "outputs": [],
   "source": [
    "# Initialize the Decision Tree classifier\n",
    "dt_classifier = DecisionTreeClassifier(random_state=42)\n",
    "\n",
    "# Define the parameter grid to search\n",
    "param_grid = {\n",
    "    'criterion': ['gini', 'entropy'],\n",
    "    'max_depth': [None, 5, 10, 15],\n",
    "    'min_samples_split': [2, 5, 10],\n",
    "    'min_samples_leaf': [1, 2, 4]\n",
    "}\n",
    "\n",
    "# Initialize GridSearchCV\n",
    "grid_search = GridSearchCV(estimator=dt_classifier, param_grid=param_grid, cv=5, scoring='accuracy')\n",
    "\n",
    "\n",
    "#compute time complexity\n",
    "start_time = time.time()\n",
    "# Train the classifier with grid search\n",
    "grid_search.fit(X_train, y_train)\n",
    "\n",
    "dt_train_time = time.time() - start_time\n",
    "\n",
    "\n",
    "\n",
    "# Get the best parameters and the best score\n",
    "best_params = grid_search.best_params_\n",
    "best_score = grid_search.best_score_\n",
    "\n",
    "# Use the best estimator from the grid search\n",
    "best_dt_classifier = grid_search.best_estimator_\n",
    "\n",
    "\n",
    "start_time = time.time()\n",
    "# Predict the labels for the test set using the best estimator\n",
    "y_pred = best_dt_classifier.predict(X_test)\n",
    "dt_predict_time = time.time() - start_time\n",
    "\n",
    "#predcit probabilities\n",
    "y_pred_proba = model.predict_proba(X_test)"
   ]
  },
  {
   "cell_type": "code",
   "execution_count": null,
   "id": "de16d6ea-35ce-4aff-994d-cf7397dc70f7",
   "metadata": {},
   "outputs": [],
   "source": [
    "dt_accuracy = accuracy_score(y_test, y_pred)\n",
    "precision = precision_score(y_test, y_pred)\n",
    "recall = recall_score(y_test, y_pred)\n",
    "f1 = f1_score(y_test, y_pred)\n",
    "\n",
    "# Print evaluation metrics\n",
    "print(\"Evaluation Metrics:\")\n",
    "print(\"Decision Tree Accuracy:\", dt_accuracy)\n",
    "print(\"Precision:\", precision_dt)\n",
    "print(\"Recall:\", recall_dt)\n",
    "print(\"F1 Score:\", f1_dt)\n",
    "\n",
    "# Print the best parameters\n",
    "print(\"\\nBest Parameters:\")\n",
    "print(best_params)"
   ]
  },
  {
   "cell_type": "code",
   "execution_count": null,
   "id": "e74853e2",
   "metadata": {},
   "outputs": [],
   "source": [
    "\n",
    "# Calculate the confusion matrix\n",
    "conf_matrix = confusion_matrix(y_test, y_pred)\n",
    "\n",
    "# Plot the confusion matrix\n",
    "plt.figure(figsize=(4, 3))\n",
    "sns.heatmap(conf_matrix, annot=True, cmap='Blues', fmt='g')\n",
    "plt.title('Confusion Matrix')\n",
    "plt.xlabel('Predicted Label')\n",
    "plt.ylabel('True Label')\n",
    "plt.show()"
   ]
  },
  {
   "cell_type": "code",
   "execution_count": null,
   "id": "60dda182-65e3-4ca6-942c-7df0da4d8891",
   "metadata": {},
   "outputs": [],
   "source": [
    "plt.figure(figsize=(20, 10))\n",
    "plot_tree(best_dt_classifier, feature_names=X_train.columns, class_names=['Normal', 'Failure'], filled=True)\n",
    "plt.title(\"Decision Tree\")\n",
    "plt.show()"
   ]
  },
  {
   "cell_type": "code",
   "execution_count": null,
   "id": "e4d4a29e-6deb-467f-88eb-bed40bcc6987",
   "metadata": {},
   "outputs": [],
   "source": [
    "\n",
    "# Print the classification report\n",
    "print(\"Classification Report:\")\n",
    "print(classification_report(y_test, y_pred, target_names=['Normal', 'Failure']))"
   ]
  },
  {
   "cell_type": "markdown",
   "id": "a61dd989",
   "metadata": {},
   "source": [
    "### ERROR ANALYSIS ON MISSCLASSIFIED EXAMPLES"
   ]
  },
  {
   "cell_type": "code",
   "execution_count": null,
   "id": "19335a71",
   "metadata": {},
   "outputs": [],
   "source": [
    "df_analysis = pd.DataFrame({\n",
    "    'True Label': y_true,\n",
    "    'Predicted Label': y_pred,\n",
    "    'Predicted Probability': y_pred_proba[:, 1]\n",
    "})\n"
   ]
  },
  {
   "cell_type": "code",
   "execution_count": null,
   "id": "b1d15bd6",
   "metadata": {},
   "outputs": [],
   "source": [
    "# Create a DataFrame with true labels, predicted labels, and probabilities\n",
    "df_analysis = pd.DataFrame({\n",
    "    'True Label': y_true,\n",
    "    'Predicted Label': y_pred,\n",
    "    'Predicted Probability': y_pred_proba[:, 1]\n",
    "})\n"
   ]
  },
  {
   "cell_type": "code",
   "execution_count": null,
   "id": "1726b68f",
   "metadata": {},
   "outputs": [],
   "source": [
    "df_fp = X_test.loc[false_positives.index].join(false_positives)\n",
    "df_fn = X_test.loc[false_negatives.index].join(false_negatives)\n",
    "\n",
    "print(\"False Positives with Features:\")\n",
    "print(df_fp)\n",
    "\n",
    "print(\"False Negatives with Features:\")\n",
    "print(df_fn)\n"
   ]
  },
  {
   "cell_type": "markdown",
   "id": "a544e6fe-8554-45f4-966f-c81a05adc796",
   "metadata": {},
   "source": [
    "# Random Forest Classifier"
   ]
  },
  {
   "cell_type": "markdown",
   "id": "54fad6e5-ce4a-4910-a5c4-0eef1d742fb1",
   "metadata": {},
   "source": [
    "We employed a Random Forest classifier to predict compressor failures in our metro train system. Leveraging grid search with cross-validation, we identified the optimal hyperparameters, including the number of estimators, maximum depth, minimum samples split, and minimum samples leaf. The best-performing Random Forest model achieved an accuracy of X% on the test set. It exhibited robust performance, with precision, recall, and F1-score of X, X, and X, respectively, for detecting failures. This comprehensive evaluation, combined with hyperparameter tuning, ensures the model's effectiveness in preemptively identifying potential issues in the air production unit of our metro trains."
   ]
  },
  {
   "cell_type": "code",
   "execution_count": null,
   "id": "f3e76257",
   "metadata": {},
   "outputs": [],
   "source": [
    "# Initialize the Random Forest classifier\n",
    "rf_classifier = RandomForestClassifier(random_state=42)\n",
    "\n",
    "# Define the parameter grid to search\n",
    "param_grid_rf = {\n",
    "    'n_estimators': [100, 200, 300],\n",
    "    'max_depth': [None, 5, 10, 15],\n",
    "    'min_samples_split': [2, 5, 10],\n",
    "    'min_samples_leaf': [1, 2, 4]\n",
    "}\n",
    "\n",
    "# Initialize GridSearchCV\n",
    "grid_search_rf = GridSearchCV(estimator=rf_classifier, param_grid=param_grid_rf, cv=5, scoring='accuracy')\n",
    "\n",
    "#time complexity\n",
    "start_time = time.time()\n",
    "\n",
    "# Train the classifier with grid search\n",
    "grid_search_rf.fit(X_train, y_train)\n",
    "rf_train_time = time.time() - start_time\n",
    "\n",
    "\n",
    "\n",
    "# Get the best parameters and the best score\n",
    "best_params_rf = grid_search_rf.best_params_\n",
    "best_score_rf = grid_search_rf.best_score_\n",
    "\n",
    "# Use the best estimator from the grid search\n",
    "best_rf_classifier = grid_search_rf.best_estimator_\n",
    "\n",
    "# Predict the labels for the test set using the best estimator\n",
    "start_time = time.time()\n",
    "y_pred_rf = best_rf_classifier.predict(X_test)\n",
    "rf_predict_time = time.time() - start_time"
   ]
  },
  {
   "cell_type": "code",
   "execution_count": null,
   "id": "1bd8cf76-d41d-4572-b2ca-2fdc52bc1b6b",
   "metadata": {},
   "outputs": [],
   "source": [
    "\n",
    "# Print the best parameters and best score\n",
    "print(\"Best Parameters for Random Forest:\")\n",
    "print(best_params_rf)\n",
    "print(\"Best Score:\", best_score_rf)\n",
    "\n"
   ]
  },
  {
   "cell_type": "code",
   "execution_count": null,
   "id": "51613685-9318-4445-980e-2f38c87d3d1d",
   "metadata": {},
   "outputs": [],
   "source": [
    "\n",
    "# Calculate evaluation metrics\n",
    "rf_accuracy = accuracy_score(y_test, y_pred_rf)\n",
    "precision_rf = precision_score(y_test, y_pred_rf)\n",
    "recall_rf = recall_score(y_test, y_pred_rf)\n",
    "f1_rf = f1_score(y_test, y_pred_rf)\n",
    "\n",
    "# Print evaluation metrics\n",
    "print(\"\\nEvaluation Metrics for Random Forest:\")\n",
    "print(\"Accuracy:\", rf_accuracy)\n",
    "print(\"Precision:\", precision_rf)\n",
    "print(\"Recall:\", recall_rf)\n",
    "print(\"F1 Score:\", f1_rf)"
   ]
  },
  {
   "cell_type": "code",
   "execution_count": null,
   "id": "ff81362f-7a5a-4c90-b3a5-a136453fe733",
   "metadata": {},
   "outputs": [],
   "source": [
    "# Calculate the confusion matrix\n",
    "conf_matrix = confusion_matrix(y_test, y_pred)\n",
    "\n",
    "# Plot the confusion matrix\n",
    "plt.figure(figsize=(4, 3))\n",
    "sns.heatmap(conf_matrix, annot=True, cmap='Blues', fmt='g')\n",
    "plt.title('Confusion Matrix')\n",
    "plt.xlabel('Predicted Label')\n",
    "plt.ylabel('True Label')\n",
    "plt.show()"
   ]
  },
  {
   "cell_type": "code",
   "execution_count": null,
   "id": "1de5d09d-7e24-453d-acd0-3699498f4acc",
   "metadata": {},
   "outputs": [],
   "source": [
    "\n",
    "# Print the classification report\n",
    "print(\"\\nClassification Report for Random Forest:\")\n",
    "print(classification_report(y_test, y_pred_rf, target_names=['Normal', 'Failure']))"
   ]
  },
  {
   "cell_type": "markdown",
   "id": "565291a2",
   "metadata": {},
   "source": [
    "***we want see the feature importance using random forest*** "
   ]
  },
  {
   "cell_type": "code",
   "execution_count": null,
   "id": "121f8e47",
   "metadata": {},
   "outputs": [],
   "source": [
    "importance = best_rf_classifier.feature_importances_"
   ]
  },
  {
   "cell_type": "code",
   "execution_count": null,
   "id": "46184176",
   "metadata": {},
   "outputs": [],
   "source": [
    "import matplotlib.pyplot as plt\n",
    "\n",
    "plt.bar(range(X.shape[1]), importance)\n",
    "plt.xticks(range(X.shape[1]), iris.feature_names, rotation=90)\n",
    "plt.title(\"Feature Importance in Random Forest\")\n",
    "plt.show()"
   ]
  },
  {
   "cell_type": "markdown",
   "id": "db1dbec6",
   "metadata": {},
   "source": [
    "## Naive Bayes"
   ]
  },
  {
   "cell_type": "markdown",
   "id": "c831718b",
   "metadata": {},
   "source": [
    "We employed a Naive Bayes classifier to predict compressor failures in our metro train system. Leveraging grid search with cross-validation, we identified the optimal hyperparameters, including the type of Naive Bayes (Gaussian, Multinomial, or Bernoulli) and smoothing parameter (alpha). The best-performing Naive Bayes model achieved an accuracy of X% on the test set. It exhibited robust performance, with precision, recall, and F1-score of X, X, and X, respectively, for detecting failures. This comprehensive evaluation, combined with hyperparameter tuning, ensures the model's effectiveness in preemptively identifying potential issues in the air production unit of our metro trains."
   ]
  },
  {
   "cell_type": "code",
   "execution_count": null,
   "id": "f37b868a-feba-4afd-ba7a-28f952bc7aae",
   "metadata": {},
   "outputs": [],
   "source": [
    "nb_classifier = BernoulliNB()\n",
    "\n",
    "\n",
    "#Time complexity\n",
    "start_time = time.time()\n",
    "# Train the classifier on the training data\n",
    "nb_classifier.fit(X_train_scaled, y_train)\n",
    "nb_train_time = time.time() - start_time\n",
    "\n",
    "\n",
    "\n",
    "\n",
    "# Predict the labels for the test set\n",
    "start_time = time.time()\n",
    "y_pred = nb_classifier.predict(X_test_scaled)\n",
    "nb_predict_time = time.time() - start_time\n",
    "\n",
    "\n",
    "# Calculate the accuracy of the model\n",
    "nb_accuracy = accuracy_score(y_test, y_pred)\n",
    "print(\"Naive Bayes Classifier Accuracy:\", accuracy)\n",
    "\n",
    "# Calculate confusion matrix\n",
    "conf_matrix = confusion_matrix(y_test, y_pred)\n",
    "print(\"\\nConfusion Matrix:\\n\", conf_matrix)\n",
    "\n",
    "# Calculate F1 score\n",
    "f1_nb = f1_score(y_test, y_pred)\n",
    "print(\"\\nF1 Score:\", f1)\n",
    "\n",
    "# Plot confusion matrix\n",
    "plt.figure(figsize=(8, 6))\n",
    "sns.heatmap(conf_matrix, annot=True, cmap='Blues', fmt='g')\n",
    "plt.title('Confusion Matrix')\n",
    "plt.xlabel('Predicted Label')\n",
    "plt.ylabel('True Label')\n",
    "plt.show()\n"
   ]
  },
  {
   "cell_type": "markdown",
   "id": "95d38227",
   "metadata": {},
   "source": [
    "## K-Nearest Neighbors (KNN)"
   ]
  },
  {
   "cell_type": "markdown",
   "id": "4f4c7f5c",
   "metadata": {},
   "source": [
    "We employed a K-Nearest Neighbors (KNN) classifier to predict compressor failures in our metro train system. Leveraging grid search with cross-validation, we identified the optimal hyperparameters, including the number of neighbors (k) and the distance metric. The best-performing KNN model achieved an accuracy of X% on the test set. It exhibited robust performance, with precision, recall, and F1-score of X, X, and X, respectively, for detecting failures. This comprehensive evaluation, combined with hyperparameter tuning, ensures the model's effectiveness in preemptively identifying potential issues in the air production unit of our metro trains."
   ]
  },
  {
   "cell_type": "code",
   "execution_count": null,
   "id": "8204d7dd",
   "metadata": {},
   "outputs": [],
   "source": [
    "# Initialize KNN classifier\n",
    "knn = KNeighborsClassifier()\n",
    "\n",
    "# Define the parameter grid for grid search\n",
    "param_grid = {\n",
    "    'n_neighbors': [3, 5, 7, 9],\n",
    "    'weights': ['uniform', 'distance'],\n",
    "}\n",
    "\n",
    "# Initialize GridSearchCV\n",
    "grid_search = GridSearchCV(estimator=knn, param_grid=param_grid, cv=5, scoring='accuracy')\n",
    "\n",
    "\n",
    "\n",
    "# Fit the model on the training data\n",
    "start_time = time.time()\n",
    "grid_search.fit(X_train, y_train)\n",
    "knn_train_time = time.time() - start_time\n",
    "\n",
    "\n",
    "\n",
    "\n",
    "# Get the best parameters and the best score\n",
    "best_params = grid_search.best_params_\n",
    "best_score = grid_search.best_score_\n",
    "\n",
    "# Use the best estimator from the grid search\n",
    "best_knn = grid_search.best_estimator_\n",
    "\n",
    "\n",
    "\n",
    "# Predict the labels for the test set using the best estimator\n",
    "start_time = time.time()\n",
    "y_pred_knn = best_knn.predict(X_test)\n",
    "knn_predict_time = time.time() - start_time\n"
   ]
  },
  {
   "cell_type": "code",
   "execution_count": null,
   "id": "abcd9329",
   "metadata": {},
   "outputs": [],
   "source": [
    "# Print the best parameters and best score\n",
    "print(\"Best parameters:\", best_params)\n",
    "print(\"Best cross-validated score:\", best_score)\n"
   ]
  },
  {
   "cell_type": "code",
   "execution_count": null,
   "id": "92452772",
   "metadata": {},
   "outputs": [],
   "source": [
    "# Calculate evaluation metrics\n",
    "knn_accuracy = accuracy_score(y_test, y_pred_knn)\n",
    "precision_knn = precision_score(y_test, y_pred_knn, average='macro')\n",
    "recall_knn = recall_score(y_test, y_pred_knn, average='macro')\n",
    "f1_knn = f1_score(y_test, y_pred_knn, average='macro')\n",
    "\n",
    "# Print evaluation metrics\n",
    "print(\"\\nEvaluation Metrics for KNN:\")\n",
    "print(\"Accuracy:\", knn_accuracy)\n",
    "print(\"Precision:\", precision_knn)\n",
    "print(\"Recall:\", recall_knn)\n",
    "print(\"F1 Score:\", f1_knn"
   ]
  },
  {
   "cell_type": "code",
   "execution_count": null,
   "id": "0daa8d94",
   "metadata": {},
   "outputs": [],
   "source": [
    "# Calculate the confusion matrix\n",
    "conf_matrix = confusion_matrix(y_test, y_pred_knn)\n",
    "\n",
    "# Plot the confusion matrix\n",
    "plt.figure(figsize=(4, 3))\n",
    "sns.heatmap(conf_matrix, annot=True, cmap='Blues', fmt='g')\n",
    "plt.title('Confusion Matrix')\n",
    "plt.xlabel('Predicted Label')\n",
    "plt.ylabel('True Label')\n",
    "plt.show()\n"
   ]
  },
  {
   "cell_type": "markdown",
   "id": "f890e127",
   "metadata": {},
   "source": [
    "## SVM"
   ]
  },
  {
   "cell_type": "markdown",
   "id": "bc02ebf0",
   "metadata": {},
   "source": [
    "We employed a Support Vector Machine (SVM) classifier to predict compressor failures in our metro train system. Leveraging grid search with cross-validation, we identified the optimal hyperparameters, including the kernel type (linear, polynomial, radial basis function), regularization parameter (C), and kernel coefficient (gamma). The best-performing SVM model achieved an accuracy of X% on the test set. It exhibited robust performance, with precision, recall, and F1-score of X, X, and X, respectively, for detecting failures. This comprehensive evaluation, combined with hyperparameter tuning, ensures the model's effectiveness in preemptively identifying potential issues in the air production unit of our metro trains."
   ]
  },
  {
   "cell_type": "code",
   "execution_count": null,
   "id": "abe9cbac-571d-4b96-9f07-06c0e5f719ea",
   "metadata": {},
   "outputs": [],
   "source": [
    "# Define the parameter grid for grid search\n",
    "param_grid = {\n",
    "    'C': [0.1, 1, 10],\n",
    "    'gamma': [1, 0.1],\n",
    "    'kernel': ['rbf', 'linear']\n",
    "}\n",
    "\n",
    "# Initialize GridSearchCV\n",
    "grid_search = GridSearchCV(estimator=svm, param_grid=param_grid, cv=5, scoring='accuracy')\n",
    "\n",
    "# Train the classifier with grid search\n",
    "start_time = time.time()\n",
    "grid_search.fit(X_train, y_train)\n",
    "svm_train_time = time.time() - start_time\n",
    "\n",
    "\n",
    "\n",
    "\n",
    "# Get the best parameters and the best score\n",
    "best_params = grid_search.best_params_\n",
    "best_score = grid_search.best_score_\n",
    "\n",
    "# Use the best estimator from the grid search\n",
    "best_svm = grid_search.best_estimator_\n",
    "\n",
    "\n",
    "# Predict the labels for the test set using the best estimator\n",
    "start_time = time.time()\n",
    "y_pred_svm = best_svm.predict(X_test)\n",
    "svm_predict_time = time.time() - start_time\n"
   ]
  },
  {
   "cell_type": "code",
   "execution_count": null,
   "id": "9766c16f",
   "metadata": {},
   "outputs": [],
   "source": [
    "# Print the best parameters and best score\n",
    "print(\"Best parameters:\", best_params)\n",
    "print(\"Best cross-validated score:\", best_score)"
   ]
  },
  {
   "cell_type": "code",
   "execution_count": null,
   "id": "1e3c534c",
   "metadata": {},
   "outputs": [],
   "source": [
    "# Calculate evaluation metrics\n",
    "svm_accuracy = accuracy_score(y_test, y_pred_svm)\n",
    "precision_svm = precision_score(y_test, y_pred_svm, average='macro')\n",
    "recall_svm = recall_score(y_test, y_pred_svm, average='macro')\n",
    "f1_svm = f1_score(y_test, y_pred_svm, average='macro')\n",
    "\n",
    "# Print evaluation metrics\n",
    "print(\"\\nEvaluation Metrics for SVM:\")\n",
    "print(\"Accuracy:\", svm_accuracy)\n",
    "print(\"Precision:\", precision_svm)\n",
    "print(\"Recall:\", recall_svm)\n",
    "print(\"F1 Score:\", f1_svm)"
   ]
  },
  {
   "cell_type": "code",
   "execution_count": null,
   "id": "e2974082",
   "metadata": {},
   "outputs": [],
   "source": [
    "# Calculate the confusion matrix\n",
    "conf_matrix = confusion_matrix(y_test, y_pred_svm)\n",
    "\n",
    "# Plot the confusion matrix\n",
    "plt.figure(figsize=(4, 3))\n",
    "sns.heatmap(conf_matrix, annot=True, cmap='Blues', fmt='g')\n",
    "plt.title('Confusion Matrix')\n",
    "plt.xlabel('Predicted Label')\n",
    "plt.ylabel('True Label')\n",
    "plt.show()"
   ]
  },
  {
   "cell_type": "markdown",
   "id": "9bbf0d3f",
   "metadata": {},
   "source": [
    "## ANN"
   ]
  },
  {
   "cell_type": "code",
   "execution_count": null,
   "id": "d1761fbe",
   "metadata": {},
   "outputs": [],
   "source": [
    "from sklearn.neural_network import MLPClassifier\n",
    "\n",
    "# Define the parameter grid for grid search\n",
    "param_grid_ann = {\n",
    "    'hidden_layer_sizes': [(10,), (10, 9),(10,8,5)],\n",
    "    'activation': ['tanh', 'relu'],\n",
    "    'alpha': [0.01, 0.05],\n",
    "}\n",
    "\n",
    "# Initialize GridSearchCV\n",
    "grid_search_ann = GridSearchCV(estimator=MLPClassifier(max_iter=1000), param_grid=param_grid_ann, cv=5, scoring='accuracy')\n",
    "\n",
    "# Train the classifier with grid search\n",
    "start_time = time.time()\n",
    "grid_search_ann.fit(X_train, y_train)\n",
    "ann_train_time = time.time() - start_time\n",
    "\n",
    "# Get the best parameters and the best score\n",
    "best_params_ann = grid_search_ann.best_params_\n",
    "best_score_ann = grid_search_ann.best_score_\n",
    "\n",
    "# Use the best estimator from the grid search\n",
    "best_ann = grid_search_ann.best_estimator_\n",
    "\n",
    "# Predict the labels for the test set using the best estimator\n",
    "start_time = time.time()\n",
    "y_pred_ann = best_ann.predict(X_test)\n",
    "ann_predict_time = time.time() - start_time\n",
    "\n"
   ]
  },
  {
   "cell_type": "code",
   "execution_count": null,
   "id": "73b34627",
   "metadata": {},
   "outputs": [],
   "source": [
    "# Print the best parameters and best score\n",
    "print(\"Best parameters:\", best_params_ann)\n",
    "print(\"Best cross-validated score:\", best_score_ann)\n"
   ]
  },
  {
   "cell_type": "code",
   "execution_count": null,
   "id": "efa32086",
   "metadata": {},
   "outputs": [],
   "source": [
    "# Calculate evaluation metrics\n",
    "ann_accuracy = accuracy_score(y_test, y_pred_ann)\n",
    "precision_ann = precision_score(y_test, y_pred_ann, average='macro')\n",
    "recall_ann = recall_score(y_test, y_pred_ann, average='macro')\n",
    "f1_ann = f1_score(y_test, y_pred_ann, average='macro')\n",
    "\n",
    "# Print evaluation metrics\n",
    "print(\"\\nEvaluation Metrics for ANN:\")\n",
    "print(\"Accuracy:\", ann_accuracy)\n",
    "print(\"Precision:\", precision_ann)\n",
    "print(\"Recall:\", recall_ann)\n",
    "print(\"F1 Score:\", f1_ann)"
   ]
  },
  {
   "cell_type": "code",
   "execution_count": null,
   "id": "e30c4e58",
   "metadata": {},
   "outputs": [],
   "source": [
    "# Calculate the confusion matrix\n",
    "conf_matrix_ann = confusion_matrix(y_test, y_pred_ann)\n",
    "\n",
    "# Plot the confusion matrix\n",
    "plt.figure(figsize=(4, 3))\n",
    "sns.heatmap(conf_matrix_ann, annot=True, cmap='Blues', fmt='g')\n",
    "plt.title('Confusion Matrix')\n",
    "plt.xlabel('Predicted Label')\n",
    "plt.ylabel('True Label')\n",
    "plt.show()"
   ]
  },
  {
   "cell_type": "markdown",
   "id": "f96bcbd3",
   "metadata": {},
   "source": [
    "# Comparing model performence"
   ]
  },
  {
   "cell_type": "code",
   "execution_count": null,
   "id": "ec35da42",
   "metadata": {},
   "outputs": [],
   "source": [
    "# Assuming you have stored the accuracy and F1 scores for each model in a dictionary\n",
    "model_performance = {\n",
    "    'Decision Tree': {'Accuracy': dt_accuracy, 'F1 Score': f1_dt},\n",
    "    'Random Forest': {'Accuracy': rf_accuracy, 'F1 Score': f1_rf},\n",
    "    'Naive Bayes': {'Accuracy': nb_accuracy, 'F1 Score': f1_nb},\n",
    "    'KNN': {'Accuracy': knn_accuracy, 'F1 Score': f1_knn},\n",
    "    #'SVM': {'Accuracy': svm_accuracy, 'F1 Score': f1_svm},\n",
    "    #'ANN': {'Accuracy': accuracy, 'F1 Score': f1_score_ann}\n",
    "}\n",
    "\n",
    "# Convert dictionary to a DataFrame\n",
    "performance_df = pd.DataFrame(model_performance).T\n",
    "\n",
    "# Plotting\n",
    "plt.figure(figsize=(15, 6))\n",
    "\n",
    "# Accuracy Plot\n",
    "plt.subplot(1, 2, 1)\n",
    "sns.barplot(x=performance_df.index, y='Accuracy', data=performance_df)\n",
    "plt.title('Model Accuracy Comparison')\n",
    "plt.xticks(rotation=45)\n",
    "\n",
    "\n",
    "plt.show()"
   ]
  },
  {
   "cell_type": "code",
   "execution_count": null,
   "id": "038946e9",
   "metadata": {},
   "outputs": [],
   "source": [
    "# F1 Score Plot\n",
    "plt.figure(figsize=(15, 6))\n",
    "plt.subplot(1, 2, 2)\n",
    "sns.barplot(x=performance_df.index, y='F1 Score', data=performance_df)\n",
    "plt.title('Model F1 Score Comparison')\n",
    "plt.xticks(rotation=45)\n",
    "plt.show()"
   ]
  },
  {
   "cell_type": "markdown",
   "id": "4c7c04f5",
   "metadata": {},
   "source": [
    "### Learning Curves"
   ]
  },
  {
   "cell_type": "code",
   "execution_count": null,
   "id": "082b9631",
   "metadata": {},
   "outputs": [],
   "source": [
    "# Function to plot the learning curve\n",
    "from sklearn.model_selection import learning_curve\n",
    "\n",
    "\n",
    "def plot_learning_curve(estimator, X, y, title):\n",
    "    train_sizes, train_scores, test_scores = learning_curve(\n",
    "        estimator, X, y, cv=5, n_jobs=-1, scoring='f1', train_sizes=np.linspace(.1, 1.0, 10))\n",
    "\n",
    "    # Calculate the average and standard deviation of the training and test scores\n",
    "    train_mean = np.mean(train_scores, axis=1)\n",
    "    train_std = np.std(train_scores, axis=1)\n",
    "    test_mean = np.mean(test_scores, axis=1)\n",
    "    test_std = np.std(test_scores, axis=1)\n",
    "\n",
    "    # Plot the learning curve\n",
    "    plt.figure(figsize=(12, 6))\n",
    "    plt.plot(train_sizes, train_mean, 'o-', color=\"r\", label=\"Training score\")\n",
    "    plt.plot(train_sizes, test_mean, 'o-', color=\"g\", label=\"Cross-validation score\")\n",
    "\n",
    "    # Fill the area between the standard deviations\n",
    "    plt.fill_between(train_sizes, train_mean - train_std, train_mean + train_std, alpha=0.1, color=\"r\")\n",
    "    plt.fill_between(train_sizes, test_mean - test_std, test_mean + test_std, alpha=0.1, color=\"g\")\n",
    "\n",
    "    # Create the plot\n",
    "    plt.title(title)\n",
    "    plt.xlabel(\"Training examples\")\n",
    "    plt.ylabel(\"Score\")\n",
    "    plt.legend(loc=\"best\")\n",
    "    plt.grid()\n",
    "    plt.show()"
   ]
  },
  {
   "cell_type": "code",
   "execution_count": null,
   "id": "2188c1ac",
   "metadata": {},
   "outputs": [],
   "source": [
    "plot_learning_curve(best_dt_classifier, X_train, y_train, title='Learning Curve for Decision Tree')"
   ]
  },
  {
   "cell_type": "code",
   "execution_count": null,
   "id": "3c02e271",
   "metadata": {},
   "outputs": [],
   "source": [
    "plot_learning_curve(best_rf_classifier, X_train, y_train, title='Learning Curve for Random Forest')"
   ]
  },
  {
   "cell_type": "code",
   "execution_count": null,
   "id": "2d6eefc1",
   "metadata": {},
   "outputs": [],
   "source": [
    "plot_learning_curve(nb_classifier, X_train, y_train, title='Learning Curve for Naive Bayes')"
   ]
  },
  {
   "cell_type": "code",
   "execution_count": null,
   "id": "92c66b16",
   "metadata": {},
   "outputs": [],
   "source": [
    "plot_learning_curve(best_knn, X_train, y_train, title='Learning Curve for KNN')"
   ]
  },
  {
   "cell_type": "code",
   "execution_count": null,
   "id": "7fa343a1",
   "metadata": {},
   "outputs": [],
   "source": [
    "plot_learning_curve(best_svm, X_train, y_train, title='Learning Curve for SVM')"
   ]
  },
  {
   "cell_type": "code",
   "execution_count": null,
   "id": "9ebe1c4c",
   "metadata": {},
   "outputs": [],
   "source": [
    "plot_learning_curve(best_svm, X_train, y_train, title='Learning Curve for ANN')"
   ]
  },
  {
   "cell_type": "markdown",
   "id": "e6d6b863",
   "metadata": {},
   "source": [
    "### Time complexity"
   ]
  },
  {
   "cell_type": "code",
   "execution_count": null,
   "id": "7fc9946a",
   "metadata": {},
   "outputs": [],
   "source": [
    "time_complexity = {\n",
    "    'Decision Tree': {'Training Time': dt_train_time, 'Prediction Time': dt_predict_time},\n",
    "    'Random Forest': {'Training Time': rf_train_time, 'Prediction Time': rf_predict_time},\n",
    "    'Naive Bayes': {'Training Time': nb_train_time, 'Prediction Time': nb_predict_time},\n",
    "    'KNN': {'Training Time': knn_train_time, 'Prediction Time': knn_predict_time},\n",
    "    'SVM': {'Training Time': svm_train_time, 'Prediction Time': svm_predict_time},\n",
    "    'ANN': {'Training Time': ann_train_time, 'Prediction Time': ann_predict_time},\n",
    "}\n"
   ]
  },
  {
   "cell_type": "code",
   "execution_count": null,
   "id": "9eb09c7c",
   "metadata": {},
   "outputs": [],
   "source": [
    "# Separate the data\n",
    "models = list(time_complexity.keys())\n",
    "training_times = [time_complexity[model]['Training Time'] for model in models]\n",
    "prediction_times = [time_complexity[model]['Prediction Time'] for model in models]\n",
    "\n",
    "# Set up the bar chart for Training Time\n",
    "plt.figure(figsize=(10, 5))\n",
    "plt.bar(models, training_times, color=['blue', 'green', 'red', 'purple'])\n",
    "plt.title('Training Time Comparison')\n",
    "plt.xlabel('Models')\n",
    "plt.ylabel('Time (in seconds)')\n",
    "plt.show()\n",
    "\n",
    "# Set up the bar chart for Prediction Time\n",
    "plt.figure(figsize=(10, 5))\n",
    "plt.bar(models, prediction_times, color=['cyan', 'magenta', 'yellow', 'black'])\n",
    "plt.title('Prediction Time Comparison')\n",
    "plt.xlabel('Models')\n",
    "plt.ylabel('Time (in seconds)')\n",
    "plt.show()\n"
   ]
  }
 ],
 "metadata": {
  "kernelspec": {
   "display_name": "Python 3 (ipykernel)",
   "language": "python",
   "name": "python3"
  },
  "language_info": {
   "codemirror_mode": {
    "name": "ipython",
    "version": 3
   },
   "file_extension": ".py",
   "mimetype": "text/x-python",
   "name": "python",
   "nbconvert_exporter": "python",
   "pygments_lexer": "ipython3",
   "version": "3.11.7"
  }
 },
 "nbformat": 4,
 "nbformat_minor": 5
}
